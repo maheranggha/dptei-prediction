{
  "cells": [
    {
      "cell_type": "markdown",
      "metadata": {
        "id": "S-6-QbEkfX4M"
      },
      "source": [
        "# DPTEI Machine Learning Models"
      ]
    },
    {
      "cell_type": "markdown",
      "metadata": {
        "id": "3s2B5NGEmdPI"
      },
      "source": [
        "### Load Dataset"
      ]
    },
    {
      "cell_type": "code",
      "execution_count": 22,
      "metadata": {
        "id": "byS3wLKGemku"
      },
      "outputs": [],
      "source": [
        "# # Using Google Colab\n",
        "# from google.colab import files\n",
        "# uploaded = files.upload()\n",
        "\n",
        "# import pandas as pd\n",
        "# import numpy as np\n"
      ]
    },
    {
      "cell_type": "code",
      "execution_count": 23,
      "metadata": {
        "colab": {
          "base_uri": "https://localhost:8080/",
          "height": 429
        },
        "id": "FK9zVfSCfD0k",
        "outputId": "1fe0e2b4-8930-4b88-d043-ee161dbcb30b"
      },
      "outputs": [],
      "source": [
        "# df = pd.read_csv('/content/Cat_Combined_Target.csv')\n",
        "# df.head()"
      ]
    },
    {
      "cell_type": "code",
      "execution_count": 76,
      "metadata": {},
      "outputs": [
        {
          "name": "stdout",
          "output_type": "stream",
          "text": [
            "       stud_id                      name    status  duration ontimegrad  \\\n",
            "0  19502241001          KUSUMA SETYAWATI  Graduate       8.0        Yes   \n",
            "1  19502241002                SRI ALIYAH    Active      10.0         No   \n",
            "2  19502241003  HIDAYAH FITRIANA IMASARI  Graduate       8.0        Yes   \n",
            "3  19502241004     PUTRI SETIA ANGGRAINI  Graduate       8.0        Yes   \n",
            "4  19502241005         CINDY EKA SAFITRI  Graduate       8.0        Yes   \n",
            "\n",
            "                         study_program extra_curr achievement domicile  \\\n",
            "0  Education in Electronic Engineering         no    National       In   \n",
            "1  Education in Electronic Engineering         no    National       In   \n",
            "2  Education in Electronic Engineering         no          No       In   \n",
            "3  Education in Electronic Engineering        yes          No       In   \n",
            "4  Education in Electronic Engineering         no          No      Out   \n",
            "\n",
            "                F_Edu  ... Mathematics Lab_Electronical Electronical Language  \\\n",
            "0      Primary School  ...        3.08             3.67         3.57     3.67   \n",
            "1  Senior High School  ...        3.17             3.74         3.30     3.34   \n",
            "2  Senior High School  ...        3.25             3.65         3.41     3.67   \n",
            "3      Primary School  ...        3.08             3.69         3.45     3.33   \n",
            "4  Junior High School  ...        3.50             3.61         3.55     3.67   \n",
            "\n",
            "  Lab_Social_Science Social_Science Science_Tech  Lab_Science_Tech  \\\n",
            "0               4.00           3.78         3.84              3.84   \n",
            "1               3.78           3.69         3.34              3.67   \n",
            "2               4.00           3.69         3.50              3.84   \n",
            "3               4.00           3.62         3.50              3.84   \n",
            "4               4.00           3.67         3.50              3.84   \n",
            "\n",
            "   Programming Lab_Programming  \n",
            "0         3.84            3.33  \n",
            "1         3.67            3.33  \n",
            "2         4.00            3.00  \n",
            "3         4.00            3.33  \n",
            "4         3.84            3.00  \n",
            "\n",
            "[5 rows x 52 columns]\n"
          ]
        }
      ],
      "source": [
        "# Using local JNB or VSCode\n",
        "import pandas as pd\n",
        "import numpy as np\n",
        "\n",
        "# Load the combined dataset\n",
        "combined_dataset_path = \"Cat_Combined_Target.csv\"  \n",
        "df = pd.read_csv(combined_dataset_path)\n",
        "\n",
        "# Display the first few rows of the combined dataset to inspect its structure\n",
        "print(df.head())"
      ]
    },
    {
      "cell_type": "code",
      "execution_count": 77,
      "metadata": {
        "colab": {
          "base_uri": "https://localhost:8080/",
          "height": 808
        },
        "id": "4B2naujKmr4E",
        "outputId": "68a26602-ee23-437a-824c-2960e4b999d2"
      },
      "outputs": [
        {
          "data": {
            "text/html": [
              "<div>\n",
              "<style scoped>\n",
              "    .dataframe tbody tr th:only-of-type {\n",
              "        vertical-align: middle;\n",
              "    }\n",
              "\n",
              "    .dataframe tbody tr th {\n",
              "        vertical-align: top;\n",
              "    }\n",
              "\n",
              "    .dataframe thead th {\n",
              "        text-align: right;\n",
              "    }\n",
              "</style>\n",
              "<table border=\"1\" class=\"dataframe\">\n",
              "  <thead>\n",
              "    <tr style=\"text-align: right;\">\n",
              "      <th></th>\n",
              "      <th>stud_id</th>\n",
              "      <th>name</th>\n",
              "      <th>status</th>\n",
              "      <th>duration</th>\n",
              "      <th>ontimegrad</th>\n",
              "      <th>study_program</th>\n",
              "      <th>extra_curr</th>\n",
              "      <th>achievement</th>\n",
              "      <th>domicile</th>\n",
              "      <th>F_Edu</th>\n",
              "      <th>...</th>\n",
              "      <th>Mathematics</th>\n",
              "      <th>Lab_Electronical</th>\n",
              "      <th>Electronical</th>\n",
              "      <th>Language</th>\n",
              "      <th>Lab_Social_Science</th>\n",
              "      <th>Social_Science</th>\n",
              "      <th>Science_Tech</th>\n",
              "      <th>Lab_Science_Tech</th>\n",
              "      <th>Programming</th>\n",
              "      <th>Lab_Programming</th>\n",
              "    </tr>\n",
              "  </thead>\n",
              "  <tbody>\n",
              "    <tr>\n",
              "      <th>0</th>\n",
              "      <td>19502241001</td>\n",
              "      <td>KUSUMA SETYAWATI</td>\n",
              "      <td>Graduate</td>\n",
              "      <td>8.0</td>\n",
              "      <td>Yes</td>\n",
              "      <td>Education in Electronic Engineering</td>\n",
              "      <td>no</td>\n",
              "      <td>National</td>\n",
              "      <td>In</td>\n",
              "      <td>Primary School</td>\n",
              "      <td>...</td>\n",
              "      <td>3.08</td>\n",
              "      <td>3.67</td>\n",
              "      <td>3.57</td>\n",
              "      <td>3.67</td>\n",
              "      <td>4.00</td>\n",
              "      <td>3.78</td>\n",
              "      <td>3.84</td>\n",
              "      <td>3.84</td>\n",
              "      <td>3.84</td>\n",
              "      <td>3.33</td>\n",
              "    </tr>\n",
              "    <tr>\n",
              "      <th>1</th>\n",
              "      <td>19502241002</td>\n",
              "      <td>SRI ALIYAH</td>\n",
              "      <td>Active</td>\n",
              "      <td>10.0</td>\n",
              "      <td>No</td>\n",
              "      <td>Education in Electronic Engineering</td>\n",
              "      <td>no</td>\n",
              "      <td>National</td>\n",
              "      <td>In</td>\n",
              "      <td>Senior High School</td>\n",
              "      <td>...</td>\n",
              "      <td>3.17</td>\n",
              "      <td>3.74</td>\n",
              "      <td>3.30</td>\n",
              "      <td>3.34</td>\n",
              "      <td>3.78</td>\n",
              "      <td>3.69</td>\n",
              "      <td>3.34</td>\n",
              "      <td>3.67</td>\n",
              "      <td>3.67</td>\n",
              "      <td>3.33</td>\n",
              "    </tr>\n",
              "    <tr>\n",
              "      <th>2</th>\n",
              "      <td>19502241003</td>\n",
              "      <td>HIDAYAH FITRIANA IMASARI</td>\n",
              "      <td>Graduate</td>\n",
              "      <td>8.0</td>\n",
              "      <td>Yes</td>\n",
              "      <td>Education in Electronic Engineering</td>\n",
              "      <td>no</td>\n",
              "      <td>No</td>\n",
              "      <td>In</td>\n",
              "      <td>Senior High School</td>\n",
              "      <td>...</td>\n",
              "      <td>3.25</td>\n",
              "      <td>3.65</td>\n",
              "      <td>3.41</td>\n",
              "      <td>3.67</td>\n",
              "      <td>4.00</td>\n",
              "      <td>3.69</td>\n",
              "      <td>3.50</td>\n",
              "      <td>3.84</td>\n",
              "      <td>4.00</td>\n",
              "      <td>3.00</td>\n",
              "    </tr>\n",
              "    <tr>\n",
              "      <th>3</th>\n",
              "      <td>19502241004</td>\n",
              "      <td>PUTRI SETIA ANGGRAINI</td>\n",
              "      <td>Graduate</td>\n",
              "      <td>8.0</td>\n",
              "      <td>Yes</td>\n",
              "      <td>Education in Electronic Engineering</td>\n",
              "      <td>yes</td>\n",
              "      <td>No</td>\n",
              "      <td>In</td>\n",
              "      <td>Primary School</td>\n",
              "      <td>...</td>\n",
              "      <td>3.08</td>\n",
              "      <td>3.69</td>\n",
              "      <td>3.45</td>\n",
              "      <td>3.33</td>\n",
              "      <td>4.00</td>\n",
              "      <td>3.62</td>\n",
              "      <td>3.50</td>\n",
              "      <td>3.84</td>\n",
              "      <td>4.00</td>\n",
              "      <td>3.33</td>\n",
              "    </tr>\n",
              "    <tr>\n",
              "      <th>4</th>\n",
              "      <td>19502241005</td>\n",
              "      <td>CINDY EKA SAFITRI</td>\n",
              "      <td>Graduate</td>\n",
              "      <td>8.0</td>\n",
              "      <td>Yes</td>\n",
              "      <td>Education in Electronic Engineering</td>\n",
              "      <td>no</td>\n",
              "      <td>No</td>\n",
              "      <td>Out</td>\n",
              "      <td>Junior High School</td>\n",
              "      <td>...</td>\n",
              "      <td>3.50</td>\n",
              "      <td>3.61</td>\n",
              "      <td>3.55</td>\n",
              "      <td>3.67</td>\n",
              "      <td>4.00</td>\n",
              "      <td>3.67</td>\n",
              "      <td>3.50</td>\n",
              "      <td>3.84</td>\n",
              "      <td>3.84</td>\n",
              "      <td>3.00</td>\n",
              "    </tr>\n",
              "    <tr>\n",
              "      <th>...</th>\n",
              "      <td>...</td>\n",
              "      <td>...</td>\n",
              "      <td>...</td>\n",
              "      <td>...</td>\n",
              "      <td>...</td>\n",
              "      <td>...</td>\n",
              "      <td>...</td>\n",
              "      <td>...</td>\n",
              "      <td>...</td>\n",
              "      <td>...</td>\n",
              "      <td>...</td>\n",
              "      <td>...</td>\n",
              "      <td>...</td>\n",
              "      <td>...</td>\n",
              "      <td>...</td>\n",
              "      <td>...</td>\n",
              "      <td>...</td>\n",
              "      <td>...</td>\n",
              "      <td>...</td>\n",
              "      <td>...</td>\n",
              "      <td>...</td>\n",
              "    </tr>\n",
              "    <tr>\n",
              "      <th>128</th>\n",
              "      <td>19537144014</td>\n",
              "      <td>RADATUL SALMA</td>\n",
              "      <td>Leave</td>\n",
              "      <td>10.0</td>\n",
              "      <td>No</td>\n",
              "      <td>Information Technology</td>\n",
              "      <td>no</td>\n",
              "      <td>No</td>\n",
              "      <td>Out</td>\n",
              "      <td>Senior High School</td>\n",
              "      <td>...</td>\n",
              "      <td>3.75</td>\n",
              "      <td>3.83</td>\n",
              "      <td>3.84</td>\n",
              "      <td>3.50</td>\n",
              "      <td>4.00</td>\n",
              "      <td>3.93</td>\n",
              "      <td>3.86</td>\n",
              "      <td>4.00</td>\n",
              "      <td>3.84</td>\n",
              "      <td>3.93</td>\n",
              "    </tr>\n",
              "    <tr>\n",
              "      <th>129</th>\n",
              "      <td>19537144015</td>\n",
              "      <td>RAMADHANI EKO PRASETYO</td>\n",
              "      <td>Graduate</td>\n",
              "      <td>8.0</td>\n",
              "      <td>Yes</td>\n",
              "      <td>Information Technology</td>\n",
              "      <td>no</td>\n",
              "      <td>International</td>\n",
              "      <td>In</td>\n",
              "      <td>Bachelor</td>\n",
              "      <td>...</td>\n",
              "      <td>3.29</td>\n",
              "      <td>3.92</td>\n",
              "      <td>3.84</td>\n",
              "      <td>3.17</td>\n",
              "      <td>4.00</td>\n",
              "      <td>3.79</td>\n",
              "      <td>3.69</td>\n",
              "      <td>3.95</td>\n",
              "      <td>3.81</td>\n",
              "      <td>3.81</td>\n",
              "    </tr>\n",
              "    <tr>\n",
              "      <th>130</th>\n",
              "      <td>19537144016</td>\n",
              "      <td>NAZELA ULHAQY ALMADINA</td>\n",
              "      <td>Graduate</td>\n",
              "      <td>8.0</td>\n",
              "      <td>Yes</td>\n",
              "      <td>Information Technology</td>\n",
              "      <td>yes</td>\n",
              "      <td>No</td>\n",
              "      <td>In</td>\n",
              "      <td>Bachelor</td>\n",
              "      <td>...</td>\n",
              "      <td>3.58</td>\n",
              "      <td>3.67</td>\n",
              "      <td>3.67</td>\n",
              "      <td>3.17</td>\n",
              "      <td>4.00</td>\n",
              "      <td>3.76</td>\n",
              "      <td>3.78</td>\n",
              "      <td>3.91</td>\n",
              "      <td>3.79</td>\n",
              "      <td>3.75</td>\n",
              "    </tr>\n",
              "    <tr>\n",
              "      <th>131</th>\n",
              "      <td>19537144017</td>\n",
              "      <td>TIFA NOVADILLAH</td>\n",
              "      <td>Active</td>\n",
              "      <td>10.0</td>\n",
              "      <td>No</td>\n",
              "      <td>Information Technology</td>\n",
              "      <td>yes</td>\n",
              "      <td>No</td>\n",
              "      <td>Out</td>\n",
              "      <td>Senior High School</td>\n",
              "      <td>...</td>\n",
              "      <td>3.17</td>\n",
              "      <td>3.00</td>\n",
              "      <td>2.34</td>\n",
              "      <td>3.34</td>\n",
              "      <td>4.00</td>\n",
              "      <td>3.48</td>\n",
              "      <td>3.89</td>\n",
              "      <td>3.95</td>\n",
              "      <td>3.56</td>\n",
              "      <td>3.42</td>\n",
              "    </tr>\n",
              "    <tr>\n",
              "      <th>132</th>\n",
              "      <td>19537144018</td>\n",
              "      <td>YOHANES NATHANIEL HEROS MANDARAKA</td>\n",
              "      <td>Graduate</td>\n",
              "      <td>8.0</td>\n",
              "      <td>Yes</td>\n",
              "      <td>Information Technology</td>\n",
              "      <td>yes</td>\n",
              "      <td>National</td>\n",
              "      <td>In</td>\n",
              "      <td>Bachelor</td>\n",
              "      <td>...</td>\n",
              "      <td>3.71</td>\n",
              "      <td>3.92</td>\n",
              "      <td>3.84</td>\n",
              "      <td>3.50</td>\n",
              "      <td>4.00</td>\n",
              "      <td>3.81</td>\n",
              "      <td>3.89</td>\n",
              "      <td>4.00</td>\n",
              "      <td>3.85</td>\n",
              "      <td>3.75</td>\n",
              "    </tr>\n",
              "  </tbody>\n",
              "</table>\n",
              "<p>133 rows × 52 columns</p>\n",
              "</div>"
            ],
            "text/plain": [
              "         stud_id                               name    status  duration  \\\n",
              "0    19502241001                   KUSUMA SETYAWATI  Graduate       8.0   \n",
              "1    19502241002                         SRI ALIYAH    Active      10.0   \n",
              "2    19502241003           HIDAYAH FITRIANA IMASARI  Graduate       8.0   \n",
              "3    19502241004              PUTRI SETIA ANGGRAINI  Graduate       8.0   \n",
              "4    19502241005                  CINDY EKA SAFITRI  Graduate       8.0   \n",
              "..           ...                                ...       ...       ...   \n",
              "128  19537144014                      RADATUL SALMA     Leave      10.0   \n",
              "129  19537144015             RAMADHANI EKO PRASETYO  Graduate       8.0   \n",
              "130  19537144016             NAZELA ULHAQY ALMADINA  Graduate       8.0   \n",
              "131  19537144017                    TIFA NOVADILLAH    Active      10.0   \n",
              "132  19537144018  YOHANES NATHANIEL HEROS MANDARAKA  Graduate       8.0   \n",
              "\n",
              "    ontimegrad                        study_program extra_curr    achievement  \\\n",
              "0          Yes  Education in Electronic Engineering         no       National   \n",
              "1           No  Education in Electronic Engineering         no       National   \n",
              "2          Yes  Education in Electronic Engineering         no             No   \n",
              "3          Yes  Education in Electronic Engineering        yes             No   \n",
              "4          Yes  Education in Electronic Engineering         no             No   \n",
              "..         ...                                  ...        ...            ...   \n",
              "128         No               Information Technology         no             No   \n",
              "129        Yes               Information Technology         no  International   \n",
              "130        Yes               Information Technology        yes             No   \n",
              "131         No               Information Technology        yes             No   \n",
              "132        Yes               Information Technology        yes       National   \n",
              "\n",
              "    domicile               F_Edu  ... Mathematics Lab_Electronical  \\\n",
              "0         In      Primary School  ...        3.08             3.67   \n",
              "1         In  Senior High School  ...        3.17             3.74   \n",
              "2         In  Senior High School  ...        3.25             3.65   \n",
              "3         In      Primary School  ...        3.08             3.69   \n",
              "4        Out  Junior High School  ...        3.50             3.61   \n",
              "..       ...                 ...  ...         ...              ...   \n",
              "128      Out  Senior High School  ...        3.75             3.83   \n",
              "129       In            Bachelor  ...        3.29             3.92   \n",
              "130       In            Bachelor  ...        3.58             3.67   \n",
              "131      Out  Senior High School  ...        3.17             3.00   \n",
              "132       In            Bachelor  ...        3.71             3.92   \n",
              "\n",
              "    Electronical Language Lab_Social_Science Social_Science Science_Tech  \\\n",
              "0           3.57     3.67               4.00           3.78         3.84   \n",
              "1           3.30     3.34               3.78           3.69         3.34   \n",
              "2           3.41     3.67               4.00           3.69         3.50   \n",
              "3           3.45     3.33               4.00           3.62         3.50   \n",
              "4           3.55     3.67               4.00           3.67         3.50   \n",
              "..           ...      ...                ...            ...          ...   \n",
              "128         3.84     3.50               4.00           3.93         3.86   \n",
              "129         3.84     3.17               4.00           3.79         3.69   \n",
              "130         3.67     3.17               4.00           3.76         3.78   \n",
              "131         2.34     3.34               4.00           3.48         3.89   \n",
              "132         3.84     3.50               4.00           3.81         3.89   \n",
              "\n",
              "     Lab_Science_Tech  Programming Lab_Programming  \n",
              "0                3.84         3.84            3.33  \n",
              "1                3.67         3.67            3.33  \n",
              "2                3.84         4.00            3.00  \n",
              "3                3.84         4.00            3.33  \n",
              "4                3.84         3.84            3.00  \n",
              "..                ...          ...             ...  \n",
              "128              4.00         3.84            3.93  \n",
              "129              3.95         3.81            3.81  \n",
              "130              3.91         3.79            3.75  \n",
              "131              3.95         3.56            3.42  \n",
              "132              4.00         3.85            3.75  \n",
              "\n",
              "[133 rows x 52 columns]"
            ]
          },
          "execution_count": 77,
          "metadata": {},
          "output_type": "execute_result"
        }
      ],
      "source": [
        "df"
      ]
    },
    {
      "cell_type": "code",
      "execution_count": 78,
      "metadata": {
        "colab": {
          "base_uri": "https://localhost:8080/"
        },
        "id": "R0VyAks8l2-M",
        "outputId": "f7ab5279-0705-4537-9a76-dbb40e4e8dfd"
      },
      "outputs": [
        {
          "data": {
            "text/plain": [
              "Index(['stud_id', 'name', 'status', 'duration', 'ontimegrad', 'study_program',\n",
              "       'extra_curr', 'achievement', 'domicile', 'F_Edu', 'M_Edu', 'F_Job',\n",
              "       'M_Job', 'F_Income', 'M_Income', 'sex', 'blood', 'age', 'national_exam',\n",
              "       'school_status', 'school_type', 'school_major', 'stud_type', 'entrance',\n",
              "       'funding_type', 'toefl', 'toefl_max', 'gpa1', 'gpa2', 'gpa3', 'gpa4',\n",
              "       'gpa5', 'gpa6', 'gpas', 'gpa7', 'gpa8', 'gpa9', 'cgpa', 'total_score1',\n",
              "       'total_score_final', 'credit_total', 'Writing', 'Mathematics',\n",
              "       'Lab_Electronical', 'Electronical', 'Language', 'Lab_Social_Science',\n",
              "       'Social_Science', 'Science_Tech', 'Lab_Science_Tech', 'Programming',\n",
              "       'Lab_Programming'],\n",
              "      dtype='object')"
            ]
          },
          "execution_count": 78,
          "metadata": {},
          "output_type": "execute_result"
        }
      ],
      "source": [
        "df.columns"
      ]
    },
    {
      "cell_type": "code",
      "execution_count": 79,
      "metadata": {
        "colab": {
          "base_uri": "https://localhost:8080/"
        },
        "id": "EdgWRoA1mMJi",
        "outputId": "c8354ca6-7be5-4f6c-cdf3-e1310ce212ec"
      },
      "outputs": [
        {
          "data": {
            "text/plain": [
              "stud_id                 int64\n",
              "name                   object\n",
              "status                 object\n",
              "duration              float64\n",
              "ontimegrad             object\n",
              "study_program          object\n",
              "extra_curr             object\n",
              "achievement            object\n",
              "domicile               object\n",
              "F_Edu                  object\n",
              "M_Edu                  object\n",
              "F_Job                  object\n",
              "M_Job                  object\n",
              "F_Income               object\n",
              "M_Income               object\n",
              "sex                    object\n",
              "blood                  object\n",
              "age                   float64\n",
              "national_exam         float64\n",
              "school_status          object\n",
              "school_type            object\n",
              "school_major           object\n",
              "stud_type              object\n",
              "entrance               object\n",
              "funding_type           object\n",
              "toefl                 float64\n",
              "toefl_max             float64\n",
              "gpa1                  float64\n",
              "gpa2                  float64\n",
              "gpa3                  float64\n",
              "gpa4                  float64\n",
              "gpa5                  float64\n",
              "gpa6                  float64\n",
              "gpas                  float64\n",
              "gpa7                  float64\n",
              "gpa8                  float64\n",
              "gpa9                  float64\n",
              "cgpa                  float64\n",
              "total_score1          float64\n",
              "total_score_final     float64\n",
              "credit_total            int64\n",
              "Writing               float64\n",
              "Mathematics           float64\n",
              "Lab_Electronical      float64\n",
              "Electronical          float64\n",
              "Language              float64\n",
              "Lab_Social_Science    float64\n",
              "Social_Science        float64\n",
              "Science_Tech          float64\n",
              "Lab_Science_Tech      float64\n",
              "Programming           float64\n",
              "Lab_Programming       float64\n",
              "dtype: object"
            ]
          },
          "execution_count": 79,
          "metadata": {},
          "output_type": "execute_result"
        }
      ],
      "source": [
        "df.dtypes"
      ]
    },
    {
      "cell_type": "markdown",
      "metadata": {
        "id": "nZ9gxl27nEKS"
      },
      "source": [
        "### Pre-Processing"
      ]
    },
    {
      "cell_type": "code",
      "execution_count": 80,
      "metadata": {
        "colab": {
          "base_uri": "https://localhost:8080/"
        },
        "id": "ik7U2M7_ndqy",
        "outputId": "92e8a91b-25a0-4d79-ae9a-ad713ebd8fef"
      },
      "outputs": [
        {
          "data": {
            "text/plain": [
              "stud_id                0\n",
              "name                   0\n",
              "status                 0\n",
              "duration              12\n",
              "ontimegrad             0\n",
              "study_program          0\n",
              "extra_curr             0\n",
              "achievement            0\n",
              "domicile              13\n",
              "F_Edu                  3\n",
              "M_Edu                  3\n",
              "F_Job                  3\n",
              "M_Job                  3\n",
              "F_Income               3\n",
              "M_Income               3\n",
              "sex                    0\n",
              "blood                 13\n",
              "age                   13\n",
              "national_exam          3\n",
              "school_status          3\n",
              "school_type            3\n",
              "school_major           3\n",
              "stud_type              0\n",
              "entrance               0\n",
              "funding_type           0\n",
              "toefl                  7\n",
              "toefl_max              7\n",
              "gpa1                   1\n",
              "gpa2                   8\n",
              "gpa3                  11\n",
              "gpa4                  15\n",
              "gpa5                  20\n",
              "gpa6                  20\n",
              "gpas                  25\n",
              "gpa7                  22\n",
              "gpa8                  34\n",
              "gpa9                  70\n",
              "cgpa                   0\n",
              "total_score1           0\n",
              "total_score_final      2\n",
              "credit_total           0\n",
              "Writing                0\n",
              "Mathematics            0\n",
              "Lab_Electronical       0\n",
              "Electronical           0\n",
              "Language               0\n",
              "Lab_Social_Science     0\n",
              "Social_Science         0\n",
              "Science_Tech           0\n",
              "Lab_Science_Tech       0\n",
              "Programming            0\n",
              "Lab_Programming        0\n",
              "dtype: int64"
            ]
          },
          "execution_count": 80,
          "metadata": {},
          "output_type": "execute_result"
        }
      ],
      "source": [
        "# Check for missing values\n",
        "missing_values = df.isnull().sum()\n",
        "missing_values"
      ]
    },
    {
      "cell_type": "markdown",
      "metadata": {
        "id": "gsssmz04Ffe4"
      },
      "source": [
        "Handling missing values"
      ]
    },
    {
      "cell_type": "code",
      "execution_count": 81,
      "metadata": {
        "colab": {
          "base_uri": "https://localhost:8080/"
        },
        "id": "T7c1C8JEnGYC",
        "outputId": "0f23d867-5267-43db-de9c-55350cb0c86c"
      },
      "outputs": [
        {
          "name": "stdout",
          "output_type": "stream",
          "text": [
            "duration             12\n",
            "domicile             13\n",
            "F_Edu                 3\n",
            "M_Edu                 3\n",
            "F_Job                 3\n",
            "M_Job                 3\n",
            "F_Income              3\n",
            "M_Income              3\n",
            "blood                13\n",
            "age                  13\n",
            "national_exam         3\n",
            "school_status         3\n",
            "school_type           3\n",
            "school_major          3\n",
            "toefl                 7\n",
            "toefl_max             7\n",
            "gpa1                  1\n",
            "gpa2                  8\n",
            "gpa3                 11\n",
            "gpa4                 15\n",
            "gpa5                 20\n",
            "gpa6                 20\n",
            "gpas                 25\n",
            "gpa7                 22\n",
            "gpa8                 34\n",
            "gpa9                 70\n",
            "total_score_final     2\n",
            "dtype: int64\n"
          ]
        }
      ],
      "source": [
        "# Check for missing values\n",
        "missing_values = df.isnull().sum()\n",
        "print(missing_values[missing_values > 0])"
      ]
    },
    {
      "cell_type": "markdown",
      "metadata": {
        "id": "Wa5Trn31GGvf"
      },
      "source": [
        "Filling missing values with Mean for numerical values"
      ]
    },
    {
      "cell_type": "code",
      "execution_count": 82,
      "metadata": {
        "id": "xtkeWGJQGdM_"
      },
      "outputs": [],
      "source": [
        "for column in df.select_dtypes(include=['float64','int64']).columns:\n",
        "    df[column].fillna(df[column].mean(), inplace=True)"
      ]
    },
    {
      "cell_type": "markdown",
      "metadata": {
        "id": "G_xdaw_JG65H"
      },
      "source": [
        "Filling missing values with Mode for categorical variables"
      ]
    },
    {
      "cell_type": "code",
      "execution_count": 83,
      "metadata": {
        "id": "8F4u0ogtFoMn"
      },
      "outputs": [],
      "source": [
        "for column in df.select_dtypes(include=['object']).columns:\n",
        "    df[column].fillna(df[column].mode()[0], inplace= True)"
      ]
    },
    {
      "cell_type": "markdown",
      "metadata": {
        "id": "fWvVT-kQ56L6"
      },
      "source": [
        "Drop several unused features: name, stud_id, etc."
      ]
    },
    {
      "cell_type": "code",
      "execution_count": 84,
      "metadata": {
        "id": "xSLy0nwJVVzT"
      },
      "outputs": [],
      "source": [
        "df = df.drop(['name','stud_id', 'status','duration','F_Income','M_Income','blood','age', 'stud_type', 'toefl_max','gpa9','gpa8','gpa7','gpas','gpa6','gpa5','total_score1','total_score_final','credit_total'], axis =1)"
      ]
    },
    {
      "cell_type": "code",
      "execution_count": 85,
      "metadata": {
        "colab": {
          "base_uri": "https://localhost:8080/",
          "height": 429
        },
        "id": "wjfIJ9XO-46O",
        "outputId": "80efe102-eaf2-45e8-ced4-cca7d3993de1"
      },
      "outputs": [
        {
          "data": {
            "text/html": [
              "<div>\n",
              "<style scoped>\n",
              "    .dataframe tbody tr th:only-of-type {\n",
              "        vertical-align: middle;\n",
              "    }\n",
              "\n",
              "    .dataframe tbody tr th {\n",
              "        vertical-align: top;\n",
              "    }\n",
              "\n",
              "    .dataframe thead th {\n",
              "        text-align: right;\n",
              "    }\n",
              "</style>\n",
              "<table border=\"1\" class=\"dataframe\">\n",
              "  <thead>\n",
              "    <tr style=\"text-align: right;\">\n",
              "      <th></th>\n",
              "      <th>ontimegrad</th>\n",
              "      <th>study_program</th>\n",
              "      <th>extra_curr</th>\n",
              "      <th>achievement</th>\n",
              "      <th>domicile</th>\n",
              "      <th>F_Edu</th>\n",
              "      <th>M_Edu</th>\n",
              "      <th>F_Job</th>\n",
              "      <th>M_Job</th>\n",
              "      <th>sex</th>\n",
              "      <th>...</th>\n",
              "      <th>Mathematics</th>\n",
              "      <th>Lab_Electronical</th>\n",
              "      <th>Electronical</th>\n",
              "      <th>Language</th>\n",
              "      <th>Lab_Social_Science</th>\n",
              "      <th>Social_Science</th>\n",
              "      <th>Science_Tech</th>\n",
              "      <th>Lab_Science_Tech</th>\n",
              "      <th>Programming</th>\n",
              "      <th>Lab_Programming</th>\n",
              "    </tr>\n",
              "  </thead>\n",
              "  <tbody>\n",
              "    <tr>\n",
              "      <th>0</th>\n",
              "      <td>Yes</td>\n",
              "      <td>Education in Electronic Engineering</td>\n",
              "      <td>no</td>\n",
              "      <td>National</td>\n",
              "      <td>In</td>\n",
              "      <td>Primary School</td>\n",
              "      <td>Primary School</td>\n",
              "      <td>Labour</td>\n",
              "      <td>Not Working</td>\n",
              "      <td>F</td>\n",
              "      <td>...</td>\n",
              "      <td>3.08</td>\n",
              "      <td>3.67</td>\n",
              "      <td>3.57</td>\n",
              "      <td>3.67</td>\n",
              "      <td>4.00</td>\n",
              "      <td>3.78</td>\n",
              "      <td>3.84</td>\n",
              "      <td>3.84</td>\n",
              "      <td>3.84</td>\n",
              "      <td>3.33</td>\n",
              "    </tr>\n",
              "    <tr>\n",
              "      <th>1</th>\n",
              "      <td>No</td>\n",
              "      <td>Education in Electronic Engineering</td>\n",
              "      <td>no</td>\n",
              "      <td>National</td>\n",
              "      <td>In</td>\n",
              "      <td>Senior High School</td>\n",
              "      <td>Junior High School</td>\n",
              "      <td>Labour</td>\n",
              "      <td>Not Working</td>\n",
              "      <td>F</td>\n",
              "      <td>...</td>\n",
              "      <td>3.17</td>\n",
              "      <td>3.74</td>\n",
              "      <td>3.30</td>\n",
              "      <td>3.34</td>\n",
              "      <td>3.78</td>\n",
              "      <td>3.69</td>\n",
              "      <td>3.34</td>\n",
              "      <td>3.67</td>\n",
              "      <td>3.67</td>\n",
              "      <td>3.33</td>\n",
              "    </tr>\n",
              "    <tr>\n",
              "      <th>2</th>\n",
              "      <td>Yes</td>\n",
              "      <td>Education in Electronic Engineering</td>\n",
              "      <td>no</td>\n",
              "      <td>No</td>\n",
              "      <td>In</td>\n",
              "      <td>Senior High School</td>\n",
              "      <td>Junior High School</td>\n",
              "      <td>Employee</td>\n",
              "      <td>Labour</td>\n",
              "      <td>F</td>\n",
              "      <td>...</td>\n",
              "      <td>3.25</td>\n",
              "      <td>3.65</td>\n",
              "      <td>3.41</td>\n",
              "      <td>3.67</td>\n",
              "      <td>4.00</td>\n",
              "      <td>3.69</td>\n",
              "      <td>3.50</td>\n",
              "      <td>3.84</td>\n",
              "      <td>4.00</td>\n",
              "      <td>3.00</td>\n",
              "    </tr>\n",
              "    <tr>\n",
              "      <th>3</th>\n",
              "      <td>Yes</td>\n",
              "      <td>Education in Electronic Engineering</td>\n",
              "      <td>yes</td>\n",
              "      <td>No</td>\n",
              "      <td>In</td>\n",
              "      <td>Primary School</td>\n",
              "      <td>Primary School</td>\n",
              "      <td>Labour</td>\n",
              "      <td>Not Working</td>\n",
              "      <td>F</td>\n",
              "      <td>...</td>\n",
              "      <td>3.08</td>\n",
              "      <td>3.69</td>\n",
              "      <td>3.45</td>\n",
              "      <td>3.33</td>\n",
              "      <td>4.00</td>\n",
              "      <td>3.62</td>\n",
              "      <td>3.50</td>\n",
              "      <td>3.84</td>\n",
              "      <td>4.00</td>\n",
              "      <td>3.33</td>\n",
              "    </tr>\n",
              "    <tr>\n",
              "      <th>4</th>\n",
              "      <td>Yes</td>\n",
              "      <td>Education in Electronic Engineering</td>\n",
              "      <td>no</td>\n",
              "      <td>No</td>\n",
              "      <td>Out</td>\n",
              "      <td>Junior High School</td>\n",
              "      <td>Senior High School</td>\n",
              "      <td>Labour</td>\n",
              "      <td>Labour</td>\n",
              "      <td>F</td>\n",
              "      <td>...</td>\n",
              "      <td>3.50</td>\n",
              "      <td>3.61</td>\n",
              "      <td>3.55</td>\n",
              "      <td>3.67</td>\n",
              "      <td>4.00</td>\n",
              "      <td>3.67</td>\n",
              "      <td>3.50</td>\n",
              "      <td>3.84</td>\n",
              "      <td>3.84</td>\n",
              "      <td>3.00</td>\n",
              "    </tr>\n",
              "  </tbody>\n",
              "</table>\n",
              "<p>5 rows × 33 columns</p>\n",
              "</div>"
            ],
            "text/plain": [
              "  ontimegrad                        study_program extra_curr achievement  \\\n",
              "0        Yes  Education in Electronic Engineering         no    National   \n",
              "1         No  Education in Electronic Engineering         no    National   \n",
              "2        Yes  Education in Electronic Engineering         no          No   \n",
              "3        Yes  Education in Electronic Engineering        yes          No   \n",
              "4        Yes  Education in Electronic Engineering         no          No   \n",
              "\n",
              "  domicile               F_Edu               M_Edu     F_Job        M_Job sex  \\\n",
              "0       In      Primary School      Primary School    Labour  Not Working   F   \n",
              "1       In  Senior High School  Junior High School    Labour  Not Working   F   \n",
              "2       In  Senior High School  Junior High School  Employee       Labour   F   \n",
              "3       In      Primary School      Primary School    Labour  Not Working   F   \n",
              "4      Out  Junior High School  Senior High School    Labour       Labour   F   \n",
              "\n",
              "   ...  Mathematics Lab_Electronical Electronical Language Lab_Social_Science  \\\n",
              "0  ...         3.08             3.67         3.57     3.67               4.00   \n",
              "1  ...         3.17             3.74         3.30     3.34               3.78   \n",
              "2  ...         3.25             3.65         3.41     3.67               4.00   \n",
              "3  ...         3.08             3.69         3.45     3.33               4.00   \n",
              "4  ...         3.50             3.61         3.55     3.67               4.00   \n",
              "\n",
              "  Social_Science  Science_Tech  Lab_Science_Tech  Programming  Lab_Programming  \n",
              "0           3.78          3.84              3.84         3.84             3.33  \n",
              "1           3.69          3.34              3.67         3.67             3.33  \n",
              "2           3.69          3.50              3.84         4.00             3.00  \n",
              "3           3.62          3.50              3.84         4.00             3.33  \n",
              "4           3.67          3.50              3.84         3.84             3.00  \n",
              "\n",
              "[5 rows x 33 columns]"
            ]
          },
          "execution_count": 85,
          "metadata": {},
          "output_type": "execute_result"
        }
      ],
      "source": [
        "df.head()"
      ]
    },
    {
      "cell_type": "markdown",
      "metadata": {
        "id": "qjfj4gSzE_hr"
      },
      "source": [
        "Separate Categorical and Numberical Features"
      ]
    },
    {
      "cell_type": "code",
      "execution_count": 86,
      "metadata": {
        "colab": {
          "base_uri": "https://localhost:8080/",
          "height": 400
        },
        "id": "W7Vp5tpGGtWv",
        "outputId": "36e0a571-2d56-41d8-eccf-4c60b2753bc4"
      },
      "outputs": [
        {
          "data": {
            "text/html": [
              "<div>\n",
              "<style scoped>\n",
              "    .dataframe tbody tr th:only-of-type {\n",
              "        vertical-align: middle;\n",
              "    }\n",
              "\n",
              "    .dataframe tbody tr th {\n",
              "        vertical-align: top;\n",
              "    }\n",
              "\n",
              "    .dataframe thead th {\n",
              "        text-align: right;\n",
              "    }\n",
              "</style>\n",
              "<table border=\"1\" class=\"dataframe\">\n",
              "  <thead>\n",
              "    <tr style=\"text-align: right;\">\n",
              "      <th></th>\n",
              "      <th>ontimegrad</th>\n",
              "      <th>study_program</th>\n",
              "      <th>extra_curr</th>\n",
              "      <th>achievement</th>\n",
              "      <th>domicile</th>\n",
              "      <th>F_Edu</th>\n",
              "      <th>M_Edu</th>\n",
              "      <th>F_Job</th>\n",
              "      <th>M_Job</th>\n",
              "      <th>sex</th>\n",
              "      <th>school_status</th>\n",
              "      <th>school_type</th>\n",
              "      <th>school_major</th>\n",
              "      <th>entrance</th>\n",
              "      <th>funding_type</th>\n",
              "    </tr>\n",
              "  </thead>\n",
              "  <tbody>\n",
              "    <tr>\n",
              "      <th>0</th>\n",
              "      <td>Yes</td>\n",
              "      <td>Education in Electronic Engineering</td>\n",
              "      <td>no</td>\n",
              "      <td>National</td>\n",
              "      <td>In</td>\n",
              "      <td>Primary School</td>\n",
              "      <td>Primary School</td>\n",
              "      <td>Labour</td>\n",
              "      <td>Not Working</td>\n",
              "      <td>F</td>\n",
              "      <td>Public</td>\n",
              "      <td>Vocational</td>\n",
              "      <td>EEC</td>\n",
              "      <td>SNMPTN</td>\n",
              "      <td>Bidik Misi</td>\n",
              "    </tr>\n",
              "    <tr>\n",
              "      <th>1</th>\n",
              "      <td>No</td>\n",
              "      <td>Education in Electronic Engineering</td>\n",
              "      <td>no</td>\n",
              "      <td>National</td>\n",
              "      <td>In</td>\n",
              "      <td>Senior High School</td>\n",
              "      <td>Junior High School</td>\n",
              "      <td>Labour</td>\n",
              "      <td>Not Working</td>\n",
              "      <td>F</td>\n",
              "      <td>Public</td>\n",
              "      <td>Vocational</td>\n",
              "      <td>EEC</td>\n",
              "      <td>SNMPTN</td>\n",
              "      <td>Bidik Misi</td>\n",
              "    </tr>\n",
              "    <tr>\n",
              "      <th>2</th>\n",
              "      <td>Yes</td>\n",
              "      <td>Education in Electronic Engineering</td>\n",
              "      <td>no</td>\n",
              "      <td>No</td>\n",
              "      <td>In</td>\n",
              "      <td>Senior High School</td>\n",
              "      <td>Junior High School</td>\n",
              "      <td>Employee</td>\n",
              "      <td>Labour</td>\n",
              "      <td>F</td>\n",
              "      <td>Public</td>\n",
              "      <td>General</td>\n",
              "      <td>Science</td>\n",
              "      <td>SNMPTN</td>\n",
              "      <td>Non Bidikmisi</td>\n",
              "    </tr>\n",
              "    <tr>\n",
              "      <th>3</th>\n",
              "      <td>Yes</td>\n",
              "      <td>Education in Electronic Engineering</td>\n",
              "      <td>yes</td>\n",
              "      <td>No</td>\n",
              "      <td>In</td>\n",
              "      <td>Primary School</td>\n",
              "      <td>Primary School</td>\n",
              "      <td>Labour</td>\n",
              "      <td>Not Working</td>\n",
              "      <td>F</td>\n",
              "      <td>Public</td>\n",
              "      <td>Vocational</td>\n",
              "      <td>EEC</td>\n",
              "      <td>SNMPTN</td>\n",
              "      <td>Bidik Misi</td>\n",
              "    </tr>\n",
              "    <tr>\n",
              "      <th>4</th>\n",
              "      <td>Yes</td>\n",
              "      <td>Education in Electronic Engineering</td>\n",
              "      <td>no</td>\n",
              "      <td>No</td>\n",
              "      <td>Out</td>\n",
              "      <td>Junior High School</td>\n",
              "      <td>Senior High School</td>\n",
              "      <td>Labour</td>\n",
              "      <td>Labour</td>\n",
              "      <td>F</td>\n",
              "      <td>Public</td>\n",
              "      <td>General</td>\n",
              "      <td>Science</td>\n",
              "      <td>SNMPTN</td>\n",
              "      <td>Non Bidikmisi</td>\n",
              "    </tr>\n",
              "  </tbody>\n",
              "</table>\n",
              "</div>"
            ],
            "text/plain": [
              "  ontimegrad                        study_program extra_curr achievement  \\\n",
              "0        Yes  Education in Electronic Engineering         no    National   \n",
              "1         No  Education in Electronic Engineering         no    National   \n",
              "2        Yes  Education in Electronic Engineering         no          No   \n",
              "3        Yes  Education in Electronic Engineering        yes          No   \n",
              "4        Yes  Education in Electronic Engineering         no          No   \n",
              "\n",
              "  domicile               F_Edu               M_Edu     F_Job        M_Job sex  \\\n",
              "0       In      Primary School      Primary School    Labour  Not Working   F   \n",
              "1       In  Senior High School  Junior High School    Labour  Not Working   F   \n",
              "2       In  Senior High School  Junior High School  Employee       Labour   F   \n",
              "3       In      Primary School      Primary School    Labour  Not Working   F   \n",
              "4      Out  Junior High School  Senior High School    Labour       Labour   F   \n",
              "\n",
              "  school_status school_type school_major entrance   funding_type  \n",
              "0        Public  Vocational          EEC   SNMPTN     Bidik Misi  \n",
              "1        Public  Vocational          EEC   SNMPTN     Bidik Misi  \n",
              "2        Public     General      Science   SNMPTN  Non Bidikmisi  \n",
              "3        Public  Vocational          EEC   SNMPTN     Bidik Misi  \n",
              "4        Public     General      Science   SNMPTN  Non Bidikmisi  "
            ]
          },
          "execution_count": 86,
          "metadata": {},
          "output_type": "execute_result"
        }
      ],
      "source": [
        "cat_features = df.select_dtypes(include=['object'])\n",
        "cat_features.head()"
      ]
    },
    {
      "cell_type": "code",
      "execution_count": 87,
      "metadata": {
        "colab": {
          "base_uri": "https://localhost:8080/",
          "height": 226
        },
        "id": "cE2ptEIIFFFa",
        "outputId": "105c073d-939f-4010-90d7-05decbe2082a"
      },
      "outputs": [
        {
          "data": {
            "text/html": [
              "<div>\n",
              "<style scoped>\n",
              "    .dataframe tbody tr th:only-of-type {\n",
              "        vertical-align: middle;\n",
              "    }\n",
              "\n",
              "    .dataframe tbody tr th {\n",
              "        vertical-align: top;\n",
              "    }\n",
              "\n",
              "    .dataframe thead th {\n",
              "        text-align: right;\n",
              "    }\n",
              "</style>\n",
              "<table border=\"1\" class=\"dataframe\">\n",
              "  <thead>\n",
              "    <tr style=\"text-align: right;\">\n",
              "      <th></th>\n",
              "      <th>national_exam</th>\n",
              "      <th>toefl</th>\n",
              "      <th>gpa1</th>\n",
              "      <th>gpa2</th>\n",
              "      <th>gpa3</th>\n",
              "      <th>gpa4</th>\n",
              "      <th>cgpa</th>\n",
              "      <th>Writing</th>\n",
              "      <th>Mathematics</th>\n",
              "      <th>Lab_Electronical</th>\n",
              "      <th>Electronical</th>\n",
              "      <th>Language</th>\n",
              "      <th>Lab_Social_Science</th>\n",
              "      <th>Social_Science</th>\n",
              "      <th>Science_Tech</th>\n",
              "      <th>Lab_Science_Tech</th>\n",
              "      <th>Programming</th>\n",
              "      <th>Lab_Programming</th>\n",
              "    </tr>\n",
              "  </thead>\n",
              "  <tbody>\n",
              "    <tr>\n",
              "      <th>0</th>\n",
              "      <td>6.425</td>\n",
              "      <td>387.0</td>\n",
              "      <td>3.49</td>\n",
              "      <td>3.64</td>\n",
              "      <td>3.72</td>\n",
              "      <td>3.78</td>\n",
              "      <td>3.71</td>\n",
              "      <td>3.84</td>\n",
              "      <td>3.08</td>\n",
              "      <td>3.67</td>\n",
              "      <td>3.57</td>\n",
              "      <td>3.67</td>\n",
              "      <td>4.00</td>\n",
              "      <td>3.78</td>\n",
              "      <td>3.84</td>\n",
              "      <td>3.84</td>\n",
              "      <td>3.84</td>\n",
              "      <td>3.33</td>\n",
              "    </tr>\n",
              "    <tr>\n",
              "      <th>1</th>\n",
              "      <td>7.600</td>\n",
              "      <td>427.0</td>\n",
              "      <td>3.70</td>\n",
              "      <td>3.83</td>\n",
              "      <td>3.47</td>\n",
              "      <td>3.50</td>\n",
              "      <td>3.61</td>\n",
              "      <td>3.67</td>\n",
              "      <td>3.17</td>\n",
              "      <td>3.74</td>\n",
              "      <td>3.30</td>\n",
              "      <td>3.34</td>\n",
              "      <td>3.78</td>\n",
              "      <td>3.69</td>\n",
              "      <td>3.34</td>\n",
              "      <td>3.67</td>\n",
              "      <td>3.67</td>\n",
              "      <td>3.33</td>\n",
              "    </tr>\n",
              "    <tr>\n",
              "      <th>2</th>\n",
              "      <td>6.237</td>\n",
              "      <td>403.0</td>\n",
              "      <td>3.45</td>\n",
              "      <td>3.64</td>\n",
              "      <td>3.64</td>\n",
              "      <td>3.67</td>\n",
              "      <td>3.65</td>\n",
              "      <td>3.67</td>\n",
              "      <td>3.25</td>\n",
              "      <td>3.65</td>\n",
              "      <td>3.41</td>\n",
              "      <td>3.67</td>\n",
              "      <td>4.00</td>\n",
              "      <td>3.69</td>\n",
              "      <td>3.50</td>\n",
              "      <td>3.84</td>\n",
              "      <td>4.00</td>\n",
              "      <td>3.00</td>\n",
              "    </tr>\n",
              "    <tr>\n",
              "      <th>3</th>\n",
              "      <td>6.460</td>\n",
              "      <td>390.0</td>\n",
              "      <td>3.45</td>\n",
              "      <td>3.67</td>\n",
              "      <td>3.50</td>\n",
              "      <td>3.58</td>\n",
              "      <td>3.64</td>\n",
              "      <td>3.84</td>\n",
              "      <td>3.08</td>\n",
              "      <td>3.69</td>\n",
              "      <td>3.45</td>\n",
              "      <td>3.33</td>\n",
              "      <td>4.00</td>\n",
              "      <td>3.62</td>\n",
              "      <td>3.50</td>\n",
              "      <td>3.84</td>\n",
              "      <td>4.00</td>\n",
              "      <td>3.33</td>\n",
              "    </tr>\n",
              "    <tr>\n",
              "      <th>4</th>\n",
              "      <td>5.380</td>\n",
              "      <td>397.0</td>\n",
              "      <td>3.58</td>\n",
              "      <td>3.67</td>\n",
              "      <td>3.64</td>\n",
              "      <td>3.64</td>\n",
              "      <td>3.69</td>\n",
              "      <td>3.84</td>\n",
              "      <td>3.50</td>\n",
              "      <td>3.61</td>\n",
              "      <td>3.55</td>\n",
              "      <td>3.67</td>\n",
              "      <td>4.00</td>\n",
              "      <td>3.67</td>\n",
              "      <td>3.50</td>\n",
              "      <td>3.84</td>\n",
              "      <td>3.84</td>\n",
              "      <td>3.00</td>\n",
              "    </tr>\n",
              "  </tbody>\n",
              "</table>\n",
              "</div>"
            ],
            "text/plain": [
              "   national_exam  toefl  gpa1  gpa2  gpa3  gpa4  cgpa  Writing  Mathematics  \\\n",
              "0          6.425  387.0  3.49  3.64  3.72  3.78  3.71     3.84         3.08   \n",
              "1          7.600  427.0  3.70  3.83  3.47  3.50  3.61     3.67         3.17   \n",
              "2          6.237  403.0  3.45  3.64  3.64  3.67  3.65     3.67         3.25   \n",
              "3          6.460  390.0  3.45  3.67  3.50  3.58  3.64     3.84         3.08   \n",
              "4          5.380  397.0  3.58  3.67  3.64  3.64  3.69     3.84         3.50   \n",
              "\n",
              "   Lab_Electronical  Electronical  Language  Lab_Social_Science  \\\n",
              "0              3.67          3.57      3.67                4.00   \n",
              "1              3.74          3.30      3.34                3.78   \n",
              "2              3.65          3.41      3.67                4.00   \n",
              "3              3.69          3.45      3.33                4.00   \n",
              "4              3.61          3.55      3.67                4.00   \n",
              "\n",
              "   Social_Science  Science_Tech  Lab_Science_Tech  Programming  \\\n",
              "0            3.78          3.84              3.84         3.84   \n",
              "1            3.69          3.34              3.67         3.67   \n",
              "2            3.69          3.50              3.84         4.00   \n",
              "3            3.62          3.50              3.84         4.00   \n",
              "4            3.67          3.50              3.84         3.84   \n",
              "\n",
              "   Lab_Programming  \n",
              "0             3.33  \n",
              "1             3.33  \n",
              "2             3.00  \n",
              "3             3.33  \n",
              "4             3.00  "
            ]
          },
          "execution_count": 87,
          "metadata": {},
          "output_type": "execute_result"
        }
      ],
      "source": [
        "num_features = df.select_dtypes(include=np.number)\n",
        "num_features.head()"
      ]
    },
    {
      "cell_type": "code",
      "execution_count": 88,
      "metadata": {
        "colab": {
          "base_uri": "https://localhost:8080/"
        },
        "id": "BJBerJm7_sju",
        "outputId": "d6f7b7ab-a9d6-4bf2-a5ba-3372a988b78e"
      },
      "outputs": [
        {
          "data": {
            "text/plain": [
              "(133, 33)"
            ]
          },
          "execution_count": 88,
          "metadata": {},
          "output_type": "execute_result"
        }
      ],
      "source": [
        "df.shape"
      ]
    },
    {
      "cell_type": "code",
      "execution_count": 89,
      "metadata": {
        "colab": {
          "base_uri": "https://localhost:8080/"
        },
        "id": "UvZqFfoM-PMB",
        "outputId": "cd0dc401-7cbb-432d-dbe0-e74f869f4d78"
      },
      "outputs": [
        {
          "data": {
            "text/plain": [
              "ontimegrad             object\n",
              "study_program          object\n",
              "extra_curr             object\n",
              "achievement            object\n",
              "domicile               object\n",
              "F_Edu                  object\n",
              "M_Edu                  object\n",
              "F_Job                  object\n",
              "M_Job                  object\n",
              "sex                    object\n",
              "national_exam         float64\n",
              "school_status          object\n",
              "school_type            object\n",
              "school_major           object\n",
              "entrance               object\n",
              "funding_type           object\n",
              "toefl                 float64\n",
              "gpa1                  float64\n",
              "gpa2                  float64\n",
              "gpa3                  float64\n",
              "gpa4                  float64\n",
              "cgpa                  float64\n",
              "Writing               float64\n",
              "Mathematics           float64\n",
              "Lab_Electronical      float64\n",
              "Electronical          float64\n",
              "Language              float64\n",
              "Lab_Social_Science    float64\n",
              "Social_Science        float64\n",
              "Science_Tech          float64\n",
              "Lab_Science_Tech      float64\n",
              "Programming           float64\n",
              "Lab_Programming       float64\n",
              "dtype: object"
            ]
          },
          "execution_count": 89,
          "metadata": {},
          "output_type": "execute_result"
        }
      ],
      "source": [
        "df.dtypes"
      ]
    },
    {
      "cell_type": "markdown",
      "metadata": {
        "id": "4C7VWtuqHjCX"
      },
      "source": [
        "Encoding Categorical Variables"
      ]
    },
    {
      "cell_type": "code",
      "execution_count": 90,
      "metadata": {
        "colab": {
          "base_uri": "https://localhost:8080/"
        },
        "id": "bX0WyJl7Hmq4",
        "outputId": "35db127b-b138-4976-fc94-7c8c4e33744b"
      },
      "outputs": [
        {
          "name": "stdout",
          "output_type": "stream",
          "text": [
            "   national_exam  toefl  gpa1  gpa2  gpa3  gpa4  cgpa  Writing  Mathematics  \\\n",
            "0          6.425  387.0  3.49  3.64  3.72  3.78  3.71     3.84         3.08   \n",
            "1          7.600  427.0  3.70  3.83  3.47  3.50  3.61     3.67         3.17   \n",
            "2          6.237  403.0  3.45  3.64  3.64  3.67  3.65     3.67         3.25   \n",
            "3          6.460  390.0  3.45  3.67  3.50  3.58  3.64     3.84         3.08   \n",
            "4          5.380  397.0  3.58  3.67  3.64  3.64  3.69     3.84         3.50   \n",
            "\n",
            "   Lab_Electronical  ...  school_type_Vocational  school_major_EEC  \\\n",
            "0              3.67  ...                    True              True   \n",
            "1              3.74  ...                    True              True   \n",
            "2              3.65  ...                   False             False   \n",
            "3              3.69  ...                    True              True   \n",
            "4              3.61  ...                   False             False   \n",
            "\n",
            "   school_major_Non-EEC  school_major_Science  school_major_Social Science  \\\n",
            "0                 False                 False                        False   \n",
            "1                 False                 False                        False   \n",
            "2                 False                  True                        False   \n",
            "3                 False                 False                        False   \n",
            "4                 False                  True                        False   \n",
            "\n",
            "   entrance_SBMPTN  entrance_SNMPTN  entrance_Seleksi Mandiri  \\\n",
            "0            False             True                     False   \n",
            "1            False             True                     False   \n",
            "2            False             True                     False   \n",
            "3            False             True                     False   \n",
            "4            False             True                     False   \n",
            "\n",
            "   funding_type_Bidik Misi  funding_type_Non Bidikmisi  \n",
            "0                     True                       False  \n",
            "1                     True                       False  \n",
            "2                    False                        True  \n",
            "3                     True                       False  \n",
            "4                    False                        True  \n",
            "\n",
            "[5 rows x 83 columns]\n"
          ]
        }
      ],
      "source": [
        "# categorical_columns = df.select_dtypes(include=['object']).columns\n",
        "# One-hot encode\n",
        "# df = pd.get_dummies(df, columns=df.select_dtypes(include=['object']).columns, drop_first=True)\n",
        "df_encoded = pd.get_dummies(df, columns=cat_features.columns)\n",
        "print(df_encoded.head())"
      ]
    },
    {
      "cell_type": "markdown",
      "metadata": {
        "id": "GlW56Lhy_rBs"
      },
      "source": [
        "Scaling Numerical Features"
      ]
    },
    {
      "cell_type": "code",
      "execution_count": 91,
      "metadata": {
        "id": "vG0F0by1_iUZ"
      },
      "outputs": [],
      "source": [
        "from sklearn.preprocessing import StandardScaler\n",
        "\n",
        "# Select numerical columns\n",
        "numerical_columns = df.select_dtypes(include=['int64','float64']).columns\n",
        "\n",
        "scaler = StandardScaler()\n",
        "\n",
        "# Execute the scaling\n",
        "df_encoded[numerical_columns] = scaler.fit_transform(df_encoded[numerical_columns])"
      ]
    },
    {
      "cell_type": "code",
      "execution_count": 92,
      "metadata": {
        "colab": {
          "base_uri": "https://localhost:8080/",
          "height": 273
        },
        "id": "9USnNbvmC0Kr",
        "outputId": "24230994-708d-40af-c098-d97ef5d87b63"
      },
      "outputs": [
        {
          "data": {
            "text/html": [
              "<div>\n",
              "<style scoped>\n",
              "    .dataframe tbody tr th:only-of-type {\n",
              "        vertical-align: middle;\n",
              "    }\n",
              "\n",
              "    .dataframe tbody tr th {\n",
              "        vertical-align: top;\n",
              "    }\n",
              "\n",
              "    .dataframe thead th {\n",
              "        text-align: right;\n",
              "    }\n",
              "</style>\n",
              "<table border=\"1\" class=\"dataframe\">\n",
              "  <thead>\n",
              "    <tr style=\"text-align: right;\">\n",
              "      <th></th>\n",
              "      <th>national_exam</th>\n",
              "      <th>toefl</th>\n",
              "      <th>gpa1</th>\n",
              "      <th>gpa2</th>\n",
              "      <th>gpa3</th>\n",
              "      <th>gpa4</th>\n",
              "      <th>cgpa</th>\n",
              "      <th>Writing</th>\n",
              "      <th>Mathematics</th>\n",
              "      <th>Lab_Electronical</th>\n",
              "      <th>...</th>\n",
              "      <th>school_type_Vocational</th>\n",
              "      <th>school_major_EEC</th>\n",
              "      <th>school_major_Non-EEC</th>\n",
              "      <th>school_major_Science</th>\n",
              "      <th>school_major_Social Science</th>\n",
              "      <th>entrance_SBMPTN</th>\n",
              "      <th>entrance_SNMPTN</th>\n",
              "      <th>entrance_Seleksi Mandiri</th>\n",
              "      <th>funding_type_Bidik Misi</th>\n",
              "      <th>funding_type_Non Bidikmisi</th>\n",
              "    </tr>\n",
              "  </thead>\n",
              "  <tbody>\n",
              "    <tr>\n",
              "      <th>0</th>\n",
              "      <td>-0.299977</td>\n",
              "      <td>-0.964680</td>\n",
              "      <td>0.221762</td>\n",
              "      <td>0.220173</td>\n",
              "      <td>0.393234</td>\n",
              "      <td>0.530965</td>\n",
              "      <td>0.452783</td>\n",
              "      <td>0.324548</td>\n",
              "      <td>-0.364604</td>\n",
              "      <td>-0.148833</td>\n",
              "      <td>...</td>\n",
              "      <td>True</td>\n",
              "      <td>True</td>\n",
              "      <td>False</td>\n",
              "      <td>False</td>\n",
              "      <td>False</td>\n",
              "      <td>False</td>\n",
              "      <td>True</td>\n",
              "      <td>False</td>\n",
              "      <td>True</td>\n",
              "      <td>False</td>\n",
              "    </tr>\n",
              "    <tr>\n",
              "      <th>1</th>\n",
              "      <td>0.600727</td>\n",
              "      <td>-0.139635</td>\n",
              "      <td>0.482127</td>\n",
              "      <td>0.546178</td>\n",
              "      <td>-0.155925</td>\n",
              "      <td>0.132892</td>\n",
              "      <td>0.344609</td>\n",
              "      <td>-0.099126</td>\n",
              "      <td>-0.172766</td>\n",
              "      <td>0.055237</td>\n",
              "      <td>...</td>\n",
              "      <td>True</td>\n",
              "      <td>True</td>\n",
              "      <td>False</td>\n",
              "      <td>False</td>\n",
              "      <td>False</td>\n",
              "      <td>False</td>\n",
              "      <td>True</td>\n",
              "      <td>False</td>\n",
              "      <td>True</td>\n",
              "      <td>False</td>\n",
              "    </tr>\n",
              "    <tr>\n",
              "      <th>2</th>\n",
              "      <td>-0.444090</td>\n",
              "      <td>-0.634662</td>\n",
              "      <td>0.172168</td>\n",
              "      <td>0.220173</td>\n",
              "      <td>0.217503</td>\n",
              "      <td>0.374579</td>\n",
              "      <td>0.387879</td>\n",
              "      <td>-0.099126</td>\n",
              "      <td>-0.002244</td>\n",
              "      <td>-0.207139</td>\n",
              "      <td>...</td>\n",
              "      <td>False</td>\n",
              "      <td>False</td>\n",
              "      <td>False</td>\n",
              "      <td>True</td>\n",
              "      <td>False</td>\n",
              "      <td>False</td>\n",
              "      <td>True</td>\n",
              "      <td>False</td>\n",
              "      <td>False</td>\n",
              "      <td>True</td>\n",
              "    </tr>\n",
              "    <tr>\n",
              "      <th>3</th>\n",
              "      <td>-0.273148</td>\n",
              "      <td>-0.902801</td>\n",
              "      <td>0.172168</td>\n",
              "      <td>0.271648</td>\n",
              "      <td>-0.090026</td>\n",
              "      <td>0.246627</td>\n",
              "      <td>0.377062</td>\n",
              "      <td>0.324548</td>\n",
              "      <td>-0.364604</td>\n",
              "      <td>-0.090527</td>\n",
              "      <td>...</td>\n",
              "      <td>True</td>\n",
              "      <td>True</td>\n",
              "      <td>False</td>\n",
              "      <td>False</td>\n",
              "      <td>False</td>\n",
              "      <td>False</td>\n",
              "      <td>True</td>\n",
              "      <td>False</td>\n",
              "      <td>True</td>\n",
              "      <td>False</td>\n",
              "    </tr>\n",
              "    <tr>\n",
              "      <th>4</th>\n",
              "      <td>-1.101030</td>\n",
              "      <td>-0.758419</td>\n",
              "      <td>0.333347</td>\n",
              "      <td>0.271648</td>\n",
              "      <td>0.217503</td>\n",
              "      <td>0.331928</td>\n",
              "      <td>0.431148</td>\n",
              "      <td>0.324548</td>\n",
              "      <td>0.530639</td>\n",
              "      <td>-0.323751</td>\n",
              "      <td>...</td>\n",
              "      <td>False</td>\n",
              "      <td>False</td>\n",
              "      <td>False</td>\n",
              "      <td>True</td>\n",
              "      <td>False</td>\n",
              "      <td>False</td>\n",
              "      <td>True</td>\n",
              "      <td>False</td>\n",
              "      <td>False</td>\n",
              "      <td>True</td>\n",
              "    </tr>\n",
              "  </tbody>\n",
              "</table>\n",
              "<p>5 rows × 83 columns</p>\n",
              "</div>"
            ],
            "text/plain": [
              "   national_exam     toefl      gpa1      gpa2      gpa3      gpa4      cgpa  \\\n",
              "0      -0.299977 -0.964680  0.221762  0.220173  0.393234  0.530965  0.452783   \n",
              "1       0.600727 -0.139635  0.482127  0.546178 -0.155925  0.132892  0.344609   \n",
              "2      -0.444090 -0.634662  0.172168  0.220173  0.217503  0.374579  0.387879   \n",
              "3      -0.273148 -0.902801  0.172168  0.271648 -0.090026  0.246627  0.377062   \n",
              "4      -1.101030 -0.758419  0.333347  0.271648  0.217503  0.331928  0.431148   \n",
              "\n",
              "    Writing  Mathematics  Lab_Electronical  ...  school_type_Vocational  \\\n",
              "0  0.324548    -0.364604         -0.148833  ...                    True   \n",
              "1 -0.099126    -0.172766          0.055237  ...                    True   \n",
              "2 -0.099126    -0.002244         -0.207139  ...                   False   \n",
              "3  0.324548    -0.364604         -0.090527  ...                    True   \n",
              "4  0.324548     0.530639         -0.323751  ...                   False   \n",
              "\n",
              "   school_major_EEC  school_major_Non-EEC  school_major_Science  \\\n",
              "0              True                 False                 False   \n",
              "1              True                 False                 False   \n",
              "2             False                 False                  True   \n",
              "3              True                 False                 False   \n",
              "4             False                 False                  True   \n",
              "\n",
              "   school_major_Social Science  entrance_SBMPTN  entrance_SNMPTN  \\\n",
              "0                        False            False             True   \n",
              "1                        False            False             True   \n",
              "2                        False            False             True   \n",
              "3                        False            False             True   \n",
              "4                        False            False             True   \n",
              "\n",
              "   entrance_Seleksi Mandiri  funding_type_Bidik Misi  \\\n",
              "0                     False                     True   \n",
              "1                     False                     True   \n",
              "2                     False                    False   \n",
              "3                     False                     True   \n",
              "4                     False                    False   \n",
              "\n",
              "   funding_type_Non Bidikmisi  \n",
              "0                       False  \n",
              "1                       False  \n",
              "2                        True  \n",
              "3                       False  \n",
              "4                        True  \n",
              "\n",
              "[5 rows x 83 columns]"
            ]
          },
          "execution_count": 92,
          "metadata": {},
          "output_type": "execute_result"
        }
      ],
      "source": [
        "df_encoded.head()"
      ]
    },
    {
      "cell_type": "code",
      "execution_count": 93,
      "metadata": {
        "colab": {
          "base_uri": "https://localhost:8080/"
        },
        "id": "tew4kbfQZDsn",
        "outputId": "de666d2f-3170-49b1-fb5e-3132a787e9b9"
      },
      "outputs": [
        {
          "name": "stdout",
          "output_type": "stream",
          "text": [
            "0       True\n",
            "1      False\n",
            "2       True\n",
            "3       True\n",
            "4       True\n",
            "       ...  \n",
            "128    False\n",
            "129     True\n",
            "130     True\n",
            "131    False\n",
            "132     True\n",
            "Name: ontimegrad_Yes, Length: 133, dtype: bool\n"
          ]
        }
      ],
      "source": [
        "print(df_encoded['ontimegrad_Yes'])"
      ]
    },
    {
      "cell_type": "code",
      "execution_count": 94,
      "metadata": {
        "colab": {
          "base_uri": "https://localhost:8080/"
        },
        "id": "SPCE5WouHMGU",
        "outputId": "f8059efd-62f2-47a8-8001-a7fba4ea5018"
      },
      "outputs": [
        {
          "data": {
            "text/plain": [
              "ontimegrad\n",
              "No     99\n",
              "Yes    34\n",
              "Name: count, dtype: int64"
            ]
          },
          "execution_count": 94,
          "metadata": {},
          "output_type": "execute_result"
        }
      ],
      "source": [
        "df['ontimegrad'].value_counts()"
      ]
    },
    {
      "cell_type": "markdown",
      "metadata": {
        "id": "i21Kwp3HIdQC"
      },
      "source": [
        "### Models"
      ]
    },
    {
      "cell_type": "code",
      "execution_count": 95,
      "metadata": {
        "id": "w-rtucYFOiWv"
      },
      "outputs": [],
      "source": [
        "# Load libraries\n",
        "import pandas as pd\n",
        "from sklearn.model_selection import train_test_split, cross_val_score\n",
        "from sklearn.metrics import accuracy_score, f1_score, recall_score, roc_auc_score, confusion_matrix, roc_curve, auc\n",
        "from sklearn.preprocessing import StandardScaler, OneHotEncoder\n",
        "from sklearn.compose import ColumnTransformer\n",
        "from sklearn.pipeline import Pipeline\n",
        "from sklearn.impute import SimpleImputer\n",
        "from sklearn.ensemble import RandomForestClassifier, GradientBoostingClassifier\n",
        "from sklearn.neighbors import KNeighborsClassifier\n",
        "from sklearn.tree import DecisionTreeClassifier\n",
        "from sklearn.svm import SVC\n",
        "from sklearn.naive_bayes import GaussianNB\n",
        "from sklearn.linear_model import LogisticRegression, SGDClassifier\n",
        "from sklearn.neural_network import MLPClassifier\n",
        "import matplotlib.pyplot as plt\n",
        "import seaborn as sns\n",
        "import numpy as np"
      ]
    },
    {
      "cell_type": "code",
      "execution_count": 96,
      "metadata": {
        "colab": {
          "base_uri": "https://localhost:8080/"
        },
        "id": "Owbv-eIlPXtS",
        "outputId": "cc27b7dc-ff4a-4be9-f231-223a0c503d8a"
      },
      "outputs": [
        {
          "name": "stdout",
          "output_type": "stream",
          "text": [
            "ontimegrad\n",
            "0    99\n",
            "1    34\n",
            "Name: count, dtype: int64\n"
          ]
        }
      ],
      "source": [
        "# Ensure the target column 'ontimegrad' is mapped correctly\n",
        "df['ontimegrad'] = df['ontimegrad'].map({'Yes': 1, 'No': 0})\n",
        "\n",
        "# Verify the mapping\n",
        "print(df['ontimegrad'].value_counts())\n",
        "\n",
        "# Define target column\n",
        "target_column = 'ontimegrad'"
      ]
    },
    {
      "cell_type": "code",
      "execution_count": 97,
      "metadata": {
        "id": "INCrAAAXPemw"
      },
      "outputs": [],
      "source": [
        "# Select specified features\n",
        "selected_features = ['extra_curr', 'sex', 'M_Job', 'F_Job', 'school_major', 'gpa4', 'cgpa', 'toefl', 'Social_Science', 'Programming']\n",
        "X = df[selected_features]\n",
        "y = df[target_column]"
      ]
    },
    {
      "cell_type": "code",
      "execution_count": 98,
      "metadata": {
        "id": "Vv-3p5JBPpNJ"
      },
      "outputs": [],
      "source": [
        "# Identify categorical and numerical columns in the selected features\n",
        "categorical_cols = X.select_dtypes(include=['object']).columns\n",
        "numerical_cols = X.select_dtypes(include=['int64', 'float64']).columns\n"
      ]
    },
    {
      "cell_type": "code",
      "execution_count": 99,
      "metadata": {
        "id": "zbIar-5xPqlA"
      },
      "outputs": [],
      "source": [
        "# Preprocessing for numerical data\n",
        "numerical_transformer = Pipeline(steps=[\n",
        "    ('imputer', SimpleImputer(strategy='median')),\n",
        "    ('scaler', StandardScaler())\n",
        "])\n",
        "\n",
        "# Preprocessing for categorical data\n",
        "categorical_transformer = Pipeline(steps=[\n",
        "    ('imputer', SimpleImputer(strategy='most_frequent')),\n",
        "    ('onehot', OneHotEncoder(handle_unknown='ignore', sparse_output=False))  # Change made here\n",
        "])\n",
        "\n",
        "\n",
        "# Combine preprocessing steps\n",
        "preprocessor = ColumnTransformer(\n",
        "    transformers=[\n",
        "        ('num', numerical_transformer, numerical_cols),\n",
        "        ('cat', categorical_transformer, categorical_cols)\n",
        "    ])"
      ]
    },
    {
      "cell_type": "code",
      "execution_count": 100,
      "metadata": {
        "id": "DE9hsoEzPtxg"
      },
      "outputs": [],
      "source": [
        "# Split the data into training and testing sets\n",
        "X_train, X_test, y_train, y_test = train_test_split(X, y, test_size=0.2, random_state=42)\n"
      ]
    },
    {
      "cell_type": "code",
      "execution_count": 101,
      "metadata": {
        "id": "4WWoGKnPPwig"
      },
      "outputs": [],
      "source": [
        "# Define models to evaluate\n",
        "models = {\n",
        "    'Random Forest': RandomForestClassifier(random_state=42),\n",
        "    'kNN': KNeighborsClassifier(),\n",
        "    'Decision Tree': DecisionTreeClassifier(random_state=42),\n",
        "    'SVM': SVC(probability=True, random_state=42),\n",
        "    'Naive Bayes': GaussianNB(),\n",
        "    'Logistic Regression': LogisticRegression(max_iter=1000, random_state=42),\n",
        "    'Gradient Boosting': GradientBoostingClassifier(random_state=42),\n",
        "    'Neural Network': MLPClassifier(max_iter=1000, random_state=42),\n",
        "    'SGD': SGDClassifier(random_state=42)\n",
        "}"
      ]
    },
    {
      "cell_type": "markdown",
      "metadata": {},
      "source": [
        "### Model Evaluation"
      ]
    },
    {
      "cell_type": "code",
      "execution_count": 102,
      "metadata": {
        "id": "lG75orDrP2g5"
      },
      "outputs": [],
      "source": [
        "# Function to evaluate a model\n",
        "def evaluate_model(name, model):\n",
        "    pipeline = Pipeline(steps=[('preprocessor', preprocessor),\n",
        "                               ('classifier', model)])\n",
        "    pipeline.fit(X_train, y_train)\n",
        "    y_pred = pipeline.predict(X_test)\n",
        "\n",
        "    if hasattr(model, \"predict_proba\"):\n",
        "        y_prob = pipeline.predict_proba(X_test)[:, 1]\n",
        "    else:\n",
        "        y_prob = pipeline.decision_function(X_test)\n",
        "\n",
        "    accuracy = accuracy_score(y_test, y_pred)\n",
        "    f1 = f1_score(y_test, y_pred)\n",
        "    recall = recall_score(y_test, y_pred)\n",
        "    roc_auc = roc_auc_score(y_test, y_prob)\n",
        "    conf_matrix = confusion_matrix(y_test, y_pred)\n",
        "    tn, fp, fn, tp = conf_matrix.ravel()\n",
        "    specificity = tn / (tn + fp)\n",
        "    return {\n",
        "        'Model': name,\n",
        "        'Accuracy': accuracy,\n",
        "        'F1 Score': f1,\n",
        "        'Recall': recall,\n",
        "        'Specificity': specificity,\n",
        "        'ROC AUC': roc_auc,\n",
        "        'Confusion Matrix': conf_matrix\n",
        "    }"
      ]
    },
    {
      "cell_type": "code",
      "execution_count": 103,
      "metadata": {
        "id": "lD2TPDbEP3YX"
      },
      "outputs": [],
      "source": [
        "# Evaluate all models\n",
        "results = []\n",
        "for name, model in models.items():\n",
        "    result = evaluate_model(name, model)\n",
        "    results.append(result)"
      ]
    },
    {
      "cell_type": "code",
      "execution_count": 104,
      "metadata": {
        "colab": {
          "base_uri": "https://localhost:8080/",
          "height": 916
        },
        "id": "NeTrbiH1TC_s",
        "outputId": "5ba2ae5f-76d6-4e55-e9b6-12bb592da3f3"
      },
      "outputs": [
        {
          "name": "stdout",
          "output_type": "stream",
          "text": [
            "                 Model  Accuracy  F1 Score  Recall  Specificity   ROC AUC  \\\n",
            "0        Random Forest  0.851852  0.500000    0.50     0.913043  0.853261   \n",
            "5  Logistic Regression  0.851852  0.500000    0.50     0.913043  0.836957   \n",
            "8                  SGD  0.777778  0.500000    0.75     0.782609  0.826087   \n",
            "7       Neural Network  0.851852  0.600000    0.75     0.869565  0.815217   \n",
            "3                  SVM  0.777778  0.000000    0.00     0.913043  0.815217   \n",
            "2        Decision Tree  0.851852  0.600000    0.75     0.869565  0.809783   \n",
            "1                  kNN  0.888889  0.666667    0.75     0.913043  0.760870   \n",
            "6    Gradient Boosting  0.777778  0.400000    0.50     0.826087  0.630435   \n",
            "4          Naive Bayes  0.407407  0.272727    0.75     0.347826  0.586957   \n",
            "\n",
            "    Confusion Matrix  \n",
            "0  [[21, 2], [2, 2]]  \n",
            "5  [[21, 2], [2, 2]]  \n",
            "8  [[18, 5], [1, 3]]  \n",
            "7  [[20, 3], [1, 3]]  \n",
            "3  [[21, 2], [4, 0]]  \n",
            "2  [[20, 3], [1, 3]]  \n",
            "1  [[21, 2], [1, 3]]  \n",
            "6  [[19, 4], [2, 2]]  \n",
            "4  [[8, 15], [1, 3]]  \n"
          ]
        },
        {
          "data": {
            "image/png": "[encoded data removed]",
            "text/plain": [
              "<Figure size 1000x800 with 1 Axes>"
            ]
          },
          "metadata": {},
          "output_type": "display_data"
        }
      ],
      "source": [
        "# Convert results to a DataFrame for better visualization\n",
        "results_df = pd.DataFrame(results).sort_values(by='ROC AUC', ascending=False)\n",
        "print(results_df)\n",
        "\n",
        "# Plotting ROC Curves for all models\n",
        "plt.figure(figsize=(10, 8))\n",
        "for name, model in models.items():\n",
        "    pipeline = Pipeline(steps=[('preprocessor', preprocessor), ('classifier', model)])\n",
        "    pipeline.fit(X_train, y_train)\n",
        "    if hasattr(pipeline.named_steps['classifier'], \"predict_proba\"):\n",
        "        y_prob = pipeline.predict_proba(X_test)[:, 1]\n",
        "    else:\n",
        "        y_prob = pipeline.decision_function(X_test)\n",
        "    fpr, tpr, _ = roc_curve(y_test, y_prob)\n",
        "    roc_auc = auc(fpr, tpr)\n",
        "    plt.plot(fpr, tpr, lw=2, label=f'{name} (area = {roc_auc:.2f})')\n",
        "\n",
        "plt.plot([0, 1], [0, 1], color='gray', lw=2, linestyle='--')\n",
        "plt.xlim([0.0, 1.0])\n",
        "plt.ylim([0.0, 1.05])\n",
        "plt.xlabel('False Positive Rate')\n",
        "plt.ylabel('True Positive Rate')\n",
        "plt.title('Receiver Operating Characteristic (ROC) Curves')\n",
        "plt.legend(loc=\"lower right\")\n",
        "plt.show()"
      ]
    },
    {
      "cell_type": "code",
      "execution_count": 105,
      "metadata": {
        "colab": {
          "base_uri": "https://localhost:8080/",
          "height": 564
        },
        "id": "9N6FW8oJTK5s",
        "outputId": "f4d0c8eb-8244-4168-f79b-ea7764c58469"
      },
      "outputs": [
        {
          "data": {
            "image/png": "[encoded data removed]",
            "text/plain": [
              "<Figure size 800x600 with 2 Axes>"
            ]
          },
          "metadata": {},
          "output_type": "display_data"
        }
      ],
      "source": [
        "# Confusion Matrix for the best model (based on ROC AUC)\n",
        "best_model_name = results_df.iloc[0]['Model']\n",
        "best_model = models[best_model_name]\n",
        "\n",
        "pipeline = Pipeline(steps=[('preprocessor', preprocessor), ('classifier', best_model)])\n",
        "pipeline.fit(X_train, y_train)\n",
        "y_pred = pipeline.predict(X_test)\n",
        "conf_matrix = confusion_matrix(y_test, y_pred)\n",
        "\n",
        "# Confusion matrix plot\n",
        "plt.figure(figsize=(8, 6))\n",
        "sns.heatmap(conf_matrix, annot=True, fmt='d', cmap='Blues')\n",
        "plt.title(f'Confusion Matrix: {best_model_name}')\n",
        "plt.xlabel('Predicted')\n",
        "plt.ylabel('Actual')\n",
        "plt.show()"
      ]
    },
    {
      "cell_type": "markdown",
      "metadata": {
        "id": "QIV13_9VT7bM"
      },
      "source": [
        "Addressing low F1-Score due to imbalance data"
      ]
    },
    {
      "cell_type": "code",
      "execution_count": 106,
      "metadata": {
        "colab": {
          "base_uri": "https://localhost:8080/"
        },
        "id": "9vHJn4tvT_Wd",
        "outputId": "0f4abcdb-fd83-4a6e-ab79-90aebfdb4e28"
      },
      "outputs": [
        {
          "name": "stdout",
          "output_type": "stream",
          "text": [
            "                 Model  Accuracy  F1 Score  Recall  Specificity   ROC AUC  \\\n",
            "3                  SVM  0.814815  0.545455    0.75     0.826087  0.880435   \n",
            "0        Random Forest  0.851852  0.500000    0.50     0.913043  0.880435   \n",
            "5  Logistic Regression  0.814815  0.545455    0.75     0.826087  0.847826   \n",
            "8                  SGD  0.703704  0.428571    0.75     0.695652  0.847826   \n",
            "7       Neural Network  0.851852  0.600000    0.75     0.869565  0.815217   \n",
            "1                  kNN  0.888889  0.666667    0.75     0.913043  0.760870   \n",
            "2        Decision Tree  0.814815  0.444444    0.50     0.869565  0.684783   \n",
            "6    Gradient Boosting  0.777778  0.400000    0.50     0.826087  0.630435   \n",
            "4          Naive Bayes  0.407407  0.272727    0.75     0.347826  0.586957   \n",
            "\n",
            "    Confusion Matrix  \n",
            "3  [[19, 4], [1, 3]]  \n",
            "0  [[21, 2], [2, 2]]  \n",
            "5  [[19, 4], [1, 3]]  \n",
            "8  [[16, 7], [1, 3]]  \n",
            "7  [[20, 3], [1, 3]]  \n",
            "1  [[21, 2], [1, 3]]  \n",
            "2  [[20, 3], [2, 2]]  \n",
            "6  [[19, 4], [2, 2]]  \n",
            "4  [[8, 15], [1, 3]]  \n"
          ]
        }
      ],
      "source": [
        "# Define models to evaluate with class weighting\n",
        "models_with_weights = {\n",
        "    'Random Forest': RandomForestClassifier(class_weight='balanced', random_state=42),\n",
        "    'kNN': KNeighborsClassifier(),  # kNN does not have class weights\n",
        "    'Decision Tree': DecisionTreeClassifier(class_weight='balanced', random_state=42),\n",
        "    'SVM': SVC(probability=True, class_weight='balanced', random_state=42),\n",
        "    'Naive Bayes': GaussianNB(),  # GaussianNB does not have class weights\n",
        "    'Logistic Regression': LogisticRegression(class_weight='balanced', max_iter=1000, random_state=42),\n",
        "    'Gradient Boosting': GradientBoostingClassifier(random_state=42),  # GradientBoosting does not have class weights\n",
        "    'Neural Network': MLPClassifier(max_iter=1000, random_state=42),  # MLPClassifier does not have class weights\n",
        "    'SGD': SGDClassifier(class_weight='balanced', random_state=42)\n",
        "}\n",
        "\n",
        "# Function to evaluate a model with class weighting\n",
        "def evaluate_model_with_weights(name, model):\n",
        "    pipeline = Pipeline(steps=[('preprocessor', preprocessor),\n",
        "                               ('classifier', model)])\n",
        "    pipeline.fit(X_train, y_train)\n",
        "    y_pred = pipeline.predict(X_test)\n",
        "    if hasattr(pipeline.named_steps['classifier'], \"predict_proba\"):\n",
        "        y_prob = pipeline.predict_proba(X_test)[:, 1]\n",
        "    else:\n",
        "        y_prob = pipeline.decision_function(X_test)\n",
        "    accuracy = accuracy_score(y_test, y_pred)\n",
        "    f1 = f1_score(y_test, y_pred)\n",
        "    recall = recall_score(y_test, y_pred)\n",
        "    roc_auc = roc_auc_score(y_test, y_prob)\n",
        "    conf_matrix = confusion_matrix(y_test, y_pred)\n",
        "    tn, fp, fn, tp = conf_matrix.ravel()\n",
        "    specificity = tn / (tn + fp)\n",
        "    return {\n",
        "        'Model': name,\n",
        "        'Accuracy': accuracy,\n",
        "        'F1 Score': f1,\n",
        "        'Recall': recall,\n",
        "        'Specificity': specificity,\n",
        "        'ROC AUC': roc_auc,\n",
        "        'Confusion Matrix': conf_matrix\n",
        "    }\n",
        "\n",
        "# Evaluate all models with class weighting\n",
        "results_with_weights = []\n",
        "for name, model in models_with_weights.items():\n",
        "    result = evaluate_model_with_weights(name, model)\n",
        "    results_with_weights.append(result)\n",
        "\n",
        "# Convert results to a DataFrame for better visualization\n",
        "results_df_with_weights = pd.DataFrame(results_with_weights).sort_values(by='ROC AUC', ascending=False)\n",
        "print(results_df_with_weights)\n"
      ]
    },
    {
      "cell_type": "markdown",
      "metadata": {
        "id": "ilXfRq5jky-t"
      },
      "source": [
        "Applying Random Oversampling"
      ]
    },
    {
      "cell_type": "code",
      "execution_count": 107,
      "metadata": {
        "id": "VgcoGPG2kwlt"
      },
      "outputs": [],
      "source": [
        "from imblearn.over_sampling import RandomOverSampler\n",
        "\n",
        "# Instantiate RandomOverSampler\n",
        "oversampler = RandomOverSampler(random_state=42)\n",
        "\n",
        "# Fit and apply random oversampling to the training data only\n",
        "X_train_resampled, y_train_resampled = oversampler.fit_resample(X_train, y_train)\n"
      ]
    },
    {
      "cell_type": "code",
      "execution_count": 108,
      "metadata": {
        "colab": {
          "base_uri": "https://localhost:8080/"
        },
        "id": "MYXMqZFCk268",
        "outputId": "ca6c38dd-545f-42cc-9f85-f0423e19437c"
      },
      "outputs": [
        {
          "name": "stdout",
          "output_type": "stream",
          "text": [
            "                 Model  Accuracy  F1 Score  Recall  Specificity   ROC AUC  \\\n",
            "3                  SVM  0.851852  0.600000    0.75     0.869565  0.869565   \n",
            "0        Random Forest  0.814815  0.444444    0.50     0.869565  0.869565   \n",
            "5  Logistic Regression  0.814815  0.545455    0.75     0.826087  0.847826   \n",
            "7       Neural Network  0.814815  0.545455    0.75     0.826087  0.826087   \n",
            "8                  SGD  0.777778  0.500000    0.75     0.782609  0.804348   \n",
            "6    Gradient Boosting  0.777778  0.400000    0.50     0.826087  0.760870   \n",
            "1                  kNN  0.703704  0.428571    0.75     0.695652  0.722826   \n",
            "2        Decision Tree  0.814815  0.444444    0.50     0.869565  0.684783   \n",
            "4          Naive Bayes  0.370370  0.260870    0.75     0.304348  0.603261   \n",
            "\n",
            "    Confusion Matrix  \n",
            "3  [[20, 3], [1, 3]]  \n",
            "0  [[20, 3], [2, 2]]  \n",
            "5  [[19, 4], [1, 3]]  \n",
            "7  [[19, 4], [1, 3]]  \n",
            "8  [[18, 5], [1, 3]]  \n",
            "6  [[19, 4], [2, 2]]  \n",
            "1  [[16, 7], [1, 3]]  \n",
            "2  [[20, 3], [2, 2]]  \n",
            "4  [[7, 16], [1, 3]]  \n"
          ]
        }
      ],
      "source": [
        "# Define models to evaluate with class weighting and oversampling\n",
        "models_with_weights_and_oversampling = {\n",
        "    'Random Forest': RandomForestClassifier(random_state=42),\n",
        "    'kNN': KNeighborsClassifier(),\n",
        "    'Decision Tree': DecisionTreeClassifier(random_state=42),\n",
        "    'SVM': SVC(probability=True, random_state=42),\n",
        "    'Naive Bayes': GaussianNB(),\n",
        "    'Logistic Regression': LogisticRegression(max_iter=1000, random_state=42),\n",
        "    'Gradient Boosting': GradientBoostingClassifier(random_state=42),\n",
        "    'Neural Network': MLPClassifier(max_iter=1000, random_state=42),\n",
        "    'SGD': SGDClassifier(random_state=42)\n",
        "}\n",
        "\n",
        "# Function to evaluate a model with class weighting and oversampling\n",
        "def evaluate_model_with_weights_and_oversampling(name, model):\n",
        "    pipeline = Pipeline(steps=[('preprocessor', preprocessor),\n",
        "                               ('classifier', model)])\n",
        "    pipeline.fit(X_train_resampled, y_train_resampled)  # Train on resampled data\n",
        "    y_pred = pipeline.predict(X_test)\n",
        "    if hasattr(pipeline.named_steps['classifier'], \"predict_proba\"):\n",
        "        y_prob = pipeline.predict_proba(X_test)[:, 1]\n",
        "    else:\n",
        "        y_prob = pipeline.decision_function(X_test)\n",
        "    accuracy = accuracy_score(y_test, y_pred)\n",
        "    f1 = f1_score(y_test, y_pred)\n",
        "    recall = recall_score(y_test, y_pred)\n",
        "    roc_auc = roc_auc_score(y_test, y_prob)\n",
        "    conf_matrix = confusion_matrix(y_test, y_pred)\n",
        "    tn, fp, fn, tp = conf_matrix.ravel()\n",
        "    specificity = tn / (tn + fp)\n",
        "    return {\n",
        "        'Model': name,\n",
        "        'Accuracy': accuracy,\n",
        "        'F1 Score': f1,\n",
        "        'Recall': recall,\n",
        "        'Specificity': specificity,\n",
        "        'ROC AUC': roc_auc,\n",
        "        'Confusion Matrix': conf_matrix\n",
        "    }\n",
        "\n",
        "# Evaluate all models with class weighting and oversampling\n",
        "results_with_weights_and_oversampling = []\n",
        "for name, model in models_with_weights_and_oversampling.items():\n",
        "    result = evaluate_model_with_weights_and_oversampling(name, model)\n",
        "    results_with_weights_and_oversampling.append(result)\n",
        "\n",
        "# Convert results to a DataFrame for better visualization\n",
        "results_df_with_weights_and_oversampling = pd.DataFrame(results_with_weights_and_oversampling).sort_values(by='ROC AUC', ascending=False)\n",
        "print(results_df_with_weights_and_oversampling)\n"
      ]
    },
    {
      "cell_type": "markdown",
      "metadata": {
        "id": "BRcena4iejsi"
      },
      "source": [
        "Applying SMOTE (Synthetic Minority Over-Sampling Technique)"
      ]
    },
    {
      "cell_type": "code",
      "execution_count": 109,
      "metadata": {
        "colab": {
          "base_uri": "https://localhost:8080/"
        },
        "id": "MvwJRbk8ejb7",
        "outputId": "ae9e18e3-47d0-40b9-ae76-97f5cfd576da"
      },
      "outputs": [
        {
          "name": "stdout",
          "output_type": "stream",
          "text": [
            "                 Model  Accuracy  F1 Score  Recall  Specificity   ROC AUC  \\\n",
            "0        Random Forest  0.851852  0.500000    0.50     0.913043  0.875000   \n",
            "8                  SGD  0.888889  0.571429    0.50     0.956522  0.847826   \n",
            "6    Gradient Boosting  0.777778  0.400000    0.50     0.826087  0.836957   \n",
            "3                  SVM  0.888889  0.666667    0.75     0.913043  0.836957   \n",
            "5  Logistic Regression  0.851852  0.600000    0.75     0.869565  0.815217   \n",
            "7       Neural Network  0.814815  0.545455    0.75     0.826087  0.815217   \n",
            "1                  kNN  0.592593  0.352941    0.75     0.565217  0.771739   \n",
            "2        Decision Tree  0.777778  0.400000    0.50     0.826087  0.663043   \n",
            "4          Naive Bayes  0.407407  0.272727    0.75     0.347826  0.630435   \n",
            "\n",
            "     Confusion Matrix  \n",
            "0   [[21, 2], [2, 2]]  \n",
            "8   [[22, 1], [2, 2]]  \n",
            "6   [[19, 4], [2, 2]]  \n",
            "3   [[21, 2], [1, 3]]  \n",
            "5   [[20, 3], [1, 3]]  \n",
            "7   [[19, 4], [1, 3]]  \n",
            "1  [[13, 10], [1, 3]]  \n",
            "2   [[19, 4], [2, 2]]  \n",
            "4   [[8, 15], [1, 3]]  \n"
          ]
        }
      ],
      "source": [
        "from imblearn.over_sampling import SMOTE\n",
        "from imblearn.pipeline import Pipeline as ImbPipeline\n",
        "\n",
        "# Import SMOTE from imbalanced-learn\n",
        "\n",
        "# Define SMOTE and model pipeline\n",
        "models_with_smote = {\n",
        "    'Random Forest': RandomForestClassifier(random_state=42),\n",
        "    'kNN': KNeighborsClassifier(),\n",
        "    'Decision Tree': DecisionTreeClassifier(random_state=42),\n",
        "    'SVM': SVC(probability=True, random_state=42),\n",
        "    'Naive Bayes': GaussianNB(),\n",
        "    'Logistic Regression': LogisticRegression(max_iter=1000, random_state=42),\n",
        "    'Gradient Boosting': GradientBoostingClassifier(random_state=42),\n",
        "    'Neural Network': MLPClassifier(max_iter=1000, random_state=42),\n",
        "    'SGD': SGDClassifier(random_state=42)\n",
        "}\n",
        "\n",
        "# Define SMOTE and model pipeline\n",
        "pipeline_with_smote = ImbPipeline([\n",
        "    ('preprocessor', preprocessor),\n",
        "    ('smote', SMOTE(random_state=42)),  # Apply SMOTE\n",
        "    ('classifier', model)\n",
        "])\n",
        "\n",
        "# Evaluate all models with SMOTE\n",
        "results_with_smote = []\n",
        "for name, model in models_with_smote.items():\n",
        "    pipeline_with_smote.set_params(classifier=model)\n",
        "    pipeline_with_smote.fit(X_train, y_train)\n",
        "    y_pred = pipeline_with_smote.predict(X_test)\n",
        "    if hasattr(model, \"predict_proba\"):\n",
        "        y_prob = pipeline_with_smote.predict_proba(X_test)[:, 1]\n",
        "    else:\n",
        "        y_prob = pipeline_with_smote.decision_function(X_test)\n",
        "    accuracy = accuracy_score(y_test, y_pred)\n",
        "    f1 = f1_score(y_test, y_pred)\n",
        "    recall = recall_score(y_test, y_pred)\n",
        "    roc_auc = roc_auc_score(y_test, y_prob)\n",
        "    conf_matrix = confusion_matrix(y_test, y_pred)\n",
        "    tn, fp, fn, tp = conf_matrix.ravel()\n",
        "    specificity = tn / (tn + fp)\n",
        "    results_with_smote.append({\n",
        "        'Model': name,\n",
        "        'Accuracy': accuracy,\n",
        "        'F1 Score': f1,\n",
        "        'Recall': recall,\n",
        "        'Specificity': specificity,\n",
        "        'ROC AUC': roc_auc,\n",
        "        'Confusion Matrix': conf_matrix\n",
        "    })\n",
        "\n",
        "# Convert results to a DataFrame for better visualization\n",
        "results_df_with_smote = pd.DataFrame(results_with_smote).sort_values(by='ROC AUC', ascending=False)\n",
        "print(results_df_with_smote)\n"
      ]
    },
    {
      "cell_type": "markdown",
      "metadata": {},
      "source": [
        "### Save Best Model"
      ]
    },
    {
      "cell_type": "code",
      "execution_count": 110,
      "metadata": {},
      "outputs": [
        {
          "name": "stdout",
          "output_type": "stream",
          "text": [
            "Model saved to rf_model.pkl\n"
          ]
        }
      ],
      "source": [
        "import joblib\n",
        "\n",
        "# Assuming 'best_model' is your trained RandomForest model\n",
        "best_model = models_with_smote['Random Forest']\n",
        "\n",
        "# Fit the best model with the entire training data\n",
        "pipeline_with_smote.set_params(classifier=best_model)\n",
        "pipeline_with_smote.fit(X_train, y_train)\n",
        "\n",
        "# Save the pipeline with SMOTE and the trained model\n",
        "joblib_file = \"rf_model.pkl\"\n",
        "joblib.dump(pipeline_with_smote, joblib_file)\n",
        "\n",
        "print(f\"Model saved to {joblib_file}\")\n"
      ]
    },
    {
      "cell_type": "markdown",
      "metadata": {
        "id": "gAdkFy5EPER5"
      },
      "source": []
    },
    {
      "cell_type": "markdown",
      "metadata": {},
      "source": [
        "### Feature Importances"
      ]
    },
    {
      "cell_type": "markdown",
      "metadata": {
        "id": "uR8tGMyrRue1"
      },
      "source": [
        "Train a Random Forest Classifier"
      ]
    },
    {
      "cell_type": "code",
      "execution_count": 58,
      "metadata": {
        "colab": {
          "base_uri": "https://localhost:8080/",
          "height": 75
        },
        "id": "glEHJLZ0RuBB",
        "outputId": "cf98bcfd-94ee-4d11-e000-0b7a061eb8f2"
      },
      "outputs": [
        {
          "data": {
            "text/html": [
              "<style>#sk-container-id-1 {color: black;}#sk-container-id-1 pre{padding: 0;}#sk-container-id-1 div.sk-toggleable {background-color: white;}#sk-container-id-1 label.sk-toggleable__label {cursor: pointer;display: block;width: 100%;margin-bottom: 0;padding: 0.3em;box-sizing: border-box;text-align: center;}#sk-container-id-1 label.sk-toggleable__label-arrow:before {content: \"▸\";float: left;margin-right: 0.25em;color: #696969;}#sk-container-id-1 label.sk-toggleable__label-arrow:hover:before {color: black;}#sk-container-id-1 div.sk-estimator:hover label.sk-toggleable__label-arrow:before {color: black;}#sk-container-id-1 div.sk-toggleable__content {max-height: 0;max-width: 0;overflow: hidden;text-align: left;background-color: #f0f8ff;}#sk-container-id-1 div.sk-toggleable__content pre {margin: 0.2em;color: black;border-radius: 0.25em;background-color: #f0f8ff;}#sk-container-id-1 input.sk-toggleable__control:checked~div.sk-toggleable__content {max-height: 200px;max-width: 100%;overflow: auto;}#sk-container-id-1 input.sk-toggleable__control:checked~label.sk-toggleable__label-arrow:before {content: \"▾\";}#sk-container-id-1 div.sk-estimator input.sk-toggleable__control:checked~label.sk-toggleable__label {background-color: #d4ebff;}#sk-container-id-1 div.sk-label input.sk-toggleable__control:checked~label.sk-toggleable__label {background-color: #d4ebff;}#sk-container-id-1 input.sk-hidden--visually {border: 0;clip: rect(1px 1px 1px 1px);clip: rect(1px, 1px, 1px, 1px);height: 1px;margin: -1px;overflow: hidden;padding: 0;position: absolute;width: 1px;}#sk-container-id-1 div.sk-estimator {font-family: monospace;background-color: #f0f8ff;border: 1px dotted black;border-radius: 0.25em;box-sizing: border-box;margin-bottom: 0.5em;}#sk-container-id-1 div.sk-estimator:hover {background-color: #d4ebff;}#sk-container-id-1 div.sk-parallel-item::after {content: \"\";width: 100%;border-bottom: 1px solid gray;flex-grow: 1;}#sk-container-id-1 div.sk-label:hover label.sk-toggleable__label {background-color: #d4ebff;}#sk-container-id-1 div.sk-serial::before {content: \"\";position: absolute;border-left: 1px solid gray;box-sizing: border-box;top: 0;bottom: 0;left: 50%;z-index: 0;}#sk-container-id-1 div.sk-serial {display: flex;flex-direction: column;align-items: center;background-color: white;padding-right: 0.2em;padding-left: 0.2em;position: relative;}#sk-container-id-1 div.sk-item {position: relative;z-index: 1;}#sk-container-id-1 div.sk-parallel {display: flex;align-items: stretch;justify-content: center;background-color: white;position: relative;}#sk-container-id-1 div.sk-item::before, #sk-container-id-1 div.sk-parallel-item::before {content: \"\";position: absolute;border-left: 1px solid gray;box-sizing: border-box;top: 0;bottom: 0;left: 50%;z-index: -1;}#sk-container-id-1 div.sk-parallel-item {display: flex;flex-direction: column;z-index: 1;position: relative;background-color: white;}#sk-container-id-1 div.sk-parallel-item:first-child::after {align-self: flex-end;width: 50%;}#sk-container-id-1 div.sk-parallel-item:last-child::after {align-self: flex-start;width: 50%;}#sk-container-id-1 div.sk-parallel-item:only-child::after {width: 0;}#sk-container-id-1 div.sk-dashed-wrapped {border: 1px dashed gray;margin: 0 0.4em 0.5em 0.4em;box-sizing: border-box;padding-bottom: 0.4em;background-color: white;}#sk-container-id-1 div.sk-label label {font-family: monospace;font-weight: bold;display: inline-block;line-height: 1.2em;}#sk-container-id-1 div.sk-label-container {text-align: center;}#sk-container-id-1 div.sk-container {/* jupyter's `normalize.less` sets `[hidden] { display: none; }` but bootstrap.min.css set `[hidden] { display: none !important; }` so we also need the `!important` here to be able to override the default hidden behavior on the sphinx rendered scikit-learn.org. See: https://github.com/scikit-learn/scikit-learn/issues/21755 */display: inline-block !important;position: relative;}#sk-container-id-1 div.sk-text-repr-fallback {display: none;}</style><div id=\"sk-container-id-1\" class=\"sk-top-container\"><div class=\"sk-text-repr-fallback\"><pre>RandomForestClassifier(random_state=42)</pre><b>In a Jupyter environment, please rerun this cell to show the HTML representation or trust the notebook. <br />On GitHub, the HTML representation is unable to render, please try loading this page with nbviewer.org.</b></div><div class=\"sk-container\" hidden><div class=\"sk-item\"><div class=\"sk-estimator sk-toggleable\"><input class=\"sk-toggleable__control sk-hidden--visually\" id=\"sk-estimator-id-1\" type=\"checkbox\" checked><label for=\"sk-estimator-id-1\" class=\"sk-toggleable__label sk-toggleable__label-arrow\">RandomForestClassifier</label><div class=\"sk-toggleable__content\"><pre>RandomForestClassifier(random_state=42)</pre></div></div></div></div></div>"
            ],
            "text/plain": [
              "RandomForestClassifier(random_state=42)"
            ]
          },
          "execution_count": 58,
          "metadata": {},
          "output_type": "execute_result"
        }
      ],
      "source": [
        "from sklearn.ensemble import RandomForestClassifier\n",
        "import matplotlib.pyplot as plt\n",
        "\n",
        "# Define features and target variables\n",
        "X = df_encoded.drop('ontimegrad_Yes', axis=1)\n",
        "y = df_encoded['ontimegrad_Yes']\n",
        "\n",
        "rf_model = RandomForestClassifier(random_state=42)\n",
        "\n",
        "# Train the model\n",
        "rf_model.fit(X, y)"
      ]
    },
    {
      "cell_type": "markdown",
      "metadata": {
        "id": "tffX6W_3bXn6"
      },
      "source": [
        "Feature Importances"
      ]
    },
    {
      "cell_type": "code",
      "execution_count": 59,
      "metadata": {
        "colab": {
          "base_uri": "https://localhost:8080/"
        },
        "id": "cDI3DEZ6ZgbR",
        "outputId": "0737e185-4572-405d-d322-cce101a12e5e"
      },
      "outputs": [
        {
          "name": "stdout",
          "output_type": "stream",
          "text": [
            "[2.02602270e-02 2.10234278e-02 1.57205561e-02 2.14728587e-02\n",
            " 3.60679872e-02 6.63940950e-02 7.24167883e-02 1.18209108e-02\n",
            " 2.36266067e-02 1.43364608e-02 1.24147809e-02 1.66455140e-02\n",
            " 8.69157227e-03 4.24790454e-02 3.72287417e-02 1.40777903e-02\n",
            " 3.86170399e-02 1.35757733e-02 3.30571716e-01 6.34391722e-04\n",
            " 2.15327654e-03 3.67154709e-03 1.54132736e-02 1.69379944e-02\n",
            " 4.99496958e-03 4.28457422e-03 4.07934760e-03 6.18864567e-04\n",
            " 2.45663195e-03 1.08280856e-03 4.26783705e-03 2.07934325e-03\n",
            " 3.87873377e-04 3.87941234e-03 1.64358714e-03 8.99515007e-04\n",
            " 1.32462311e-03 1.91682613e-03 2.77228566e-03 2.14318830e-03\n",
            " 0.00000000e+00 0.00000000e+00 2.01381799e-04 2.88426613e-03\n",
            " 2.28001790e-03 1.19098431e-03 6.14310938e-03 0.00000000e+00\n",
            " 1.78685376e-03 7.25155016e-04 4.53299319e-04 3.80697800e-03\n",
            " 2.11524907e-03 1.24486160e-03 1.85701670e-03 0.00000000e+00\n",
            " 2.73524721e-04 1.39415854e-03 2.49297095e-04 7.37607184e-04\n",
            " 0.00000000e+00 0.00000000e+00 9.88050968e-03 3.92049138e-03\n",
            " 9.67532301e-04 5.85599914e-04 4.72480106e-04 1.29747605e-02\n",
            " 1.32401893e-02 1.04622672e-03 2.03559826e-03 3.60778518e-03\n",
            " 3.20950872e-03 3.08866234e-03 1.92244895e-03 2.14041971e-03\n",
            " 0.00000000e+00 3.98858039e-03 2.10069246e-03 3.60272860e-03\n",
            " 1.54047828e-03 7.24748360e-03]\n"
          ]
        }
      ],
      "source": [
        "importances = rf_model.feature_importances_\n",
        "print(importances)"
      ]
    },
    {
      "cell_type": "code",
      "execution_count": 60,
      "metadata": {
        "colab": {
          "base_uri": "https://localhost:8080/",
          "height": 376
        },
        "id": "GVeew5zmZ3UJ",
        "outputId": "3e245e03-dd81-49be-c4ca-4e28eaa2c192"
      },
      "outputs": [
        {
          "data": {
            "image/png": "[encoded data removed]",
            "text/plain": [
              "<Figure size 1200x800 with 1 Axes>"
            ]
          },
          "metadata": {},
          "output_type": "display_data"
        }
      ],
      "source": [
        "import seaborn as sns\n",
        "\n",
        "indices = np.argsort(importances)[::-1]\n",
        "\n",
        "# Plot feature importances\n",
        "plt.figure(figsize=(12, 8))\n",
        "sns.barplot(x=importances[indices], y=X.columns[indices])\n",
        "plt.title('Feature Importances')\n",
        "plt.xlabel('Importance')\n",
        "plt.ylabel('Features')\n",
        "plt.show()"
      ]
    },
    {
      "cell_type": "code",
      "execution_count": 61,
      "metadata": {
        "colab": {
          "base_uri": "https://localhost:8080/",
          "height": 455
        },
        "id": "6fZwVu1zaOoF",
        "outputId": "282b493c-4d79-4e0e-c0e1-f8972bd6a15d"
      },
      "outputs": [
        {
          "data": {
            "image/png": "[encoded data removed]",
            "text/plain": [
              "<Figure size 1200x800 with 1 Axes>"
            ]
          },
          "metadata": {},
          "output_type": "display_data"
        }
      ],
      "source": [
        "# Get the top 10 features\n",
        "top_x_indices = indices[:20]\n",
        "top_x_features = X.columns[top_x_indices]\n",
        "top_x_importances = importances[top_x_indices]\n",
        "\n",
        "# Plot feature importances\n",
        "plt.figure(figsize=(12, 8))\n",
        "sns.barplot(x=top_x_importances, y=top_x_features)\n",
        "plt.title('Feature Importances')\n",
        "plt.xlabel('Importance')\n",
        "plt.ylabel('Features')\n",
        "plt.show()"
      ]
    },
    {
      "cell_type": "markdown",
      "metadata": {
        "id": "rmw09ETjbc9l"
      },
      "source": [
        "Feature Importances by Categorical and Numerical"
      ]
    },
    {
      "cell_type": "code",
      "execution_count": 62,
      "metadata": {
        "colab": {
          "base_uri": "https://localhost:8080/"
        },
        "id": "_XEesiNXeaAT",
        "outputId": "11862712-e311-418e-c488-1145cae09509"
      },
      "outputs": [
        {
          "data": {
            "text/plain": [
              "national_exam                                         float64\n",
              "toefl                                                 float64\n",
              "gpa1                                                  float64\n",
              "gpa2                                                  float64\n",
              "gpa3                                                  float64\n",
              "gpa4                                                  float64\n",
              "cgpa                                                  float64\n",
              "Writing                                               float64\n",
              "Mathematics                                           float64\n",
              "Lab_Electronical                                      float64\n",
              "Electronical                                          float64\n",
              "Language                                              float64\n",
              "Lab_Social_Science                                    float64\n",
              "Social_Science                                        float64\n",
              "Science_Tech                                          float64\n",
              "Lab_Science_Tech                                      float64\n",
              "Programming                                           float64\n",
              "Lab_Programming                                       float64\n",
              "ontimegrad_No                                            bool\n",
              "ontimegrad_Yes                                           bool\n",
              "study_program_Education in Electronic Engineering        bool\n",
              "study_program_Education in Informatics Engineering       bool\n",
              "study_program_Information Technology                     bool\n",
              "extra_curr_no                                            bool\n",
              "extra_curr_yes                                           bool\n",
              "achievement_International                                bool\n",
              "achievement_National                                     bool\n",
              "achievement_No                                           bool\n",
              "domicile_In                                              bool\n",
              "domicile_Out                                             bool\n",
              "F_Edu_Bachelor                                           bool\n",
              "F_Edu_Diploma                                            bool\n",
              "F_Edu_Junior High School                                 bool\n",
              "F_Edu_Master                                             bool\n",
              "F_Edu_Not Finished Primary                               bool\n",
              "F_Edu_PhD                                                bool\n",
              "F_Edu_Primary School                                     bool\n",
              "F_Edu_Senior High School                                 bool\n",
              "M_Edu_Bachelor                                           bool\n",
              "M_Edu_Diploma                                            bool\n",
              "M_Edu_Junior High School                                 bool\n",
              "M_Edu_Master                                             bool\n",
              "M_Edu_Not Finished Primary                               bool\n",
              "M_Edu_PhD                                                bool\n",
              "M_Edu_Primary School                                     bool\n",
              "M_Edu_Senior High School                                 bool\n",
              "F_Job_Deceased                                           bool\n",
              "F_Job_Employee                                           bool\n",
              "F_Job_Entrepreneur                                       bool\n",
              "F_Job_Farmer                                             bool\n",
              "dtype: object"
            ]
          },
          "execution_count": 62,
          "metadata": {},
          "output_type": "execute_result"
        }
      ],
      "source": [
        "df_encoded.dtypes.head(50)"
      ]
    },
    {
      "cell_type": "code",
      "execution_count": 63,
      "metadata": {
        "colab": {
          "base_uri": "https://localhost:8080/",
          "height": 478
        },
        "id": "eUQzbDkjfNoc",
        "outputId": "58168e0c-0707-4224-f31c-79e56fef771f"
      },
      "outputs": [
        {
          "data": {
            "text/html": [
              "<div>\n",
              "<style scoped>\n",
              "    .dataframe tbody tr th:only-of-type {\n",
              "        vertical-align: middle;\n",
              "    }\n",
              "\n",
              "    .dataframe tbody tr th {\n",
              "        vertical-align: top;\n",
              "    }\n",
              "\n",
              "    .dataframe thead th {\n",
              "        text-align: right;\n",
              "    }\n",
              "</style>\n",
              "<table border=\"1\" class=\"dataframe\">\n",
              "  <thead>\n",
              "    <tr style=\"text-align: right;\">\n",
              "      <th></th>\n",
              "      <th>ontimegrad_No</th>\n",
              "      <th>ontimegrad_Yes</th>\n",
              "      <th>study_program_Education in Electronic Engineering</th>\n",
              "      <th>study_program_Education in Informatics Engineering</th>\n",
              "      <th>study_program_Information Technology</th>\n",
              "      <th>extra_curr_no</th>\n",
              "      <th>extra_curr_yes</th>\n",
              "      <th>achievement_International</th>\n",
              "      <th>achievement_National</th>\n",
              "      <th>achievement_No</th>\n",
              "      <th>...</th>\n",
              "      <th>school_type_Vocational</th>\n",
              "      <th>school_major_EEC</th>\n",
              "      <th>school_major_Non-EEC</th>\n",
              "      <th>school_major_Science</th>\n",
              "      <th>school_major_Social Science</th>\n",
              "      <th>entrance_SBMPTN</th>\n",
              "      <th>entrance_SNMPTN</th>\n",
              "      <th>entrance_Seleksi Mandiri</th>\n",
              "      <th>funding_type_Bidik Misi</th>\n",
              "      <th>funding_type_Non Bidikmisi</th>\n",
              "    </tr>\n",
              "  </thead>\n",
              "  <tbody>\n",
              "    <tr>\n",
              "      <th>0</th>\n",
              "      <td>False</td>\n",
              "      <td>True</td>\n",
              "      <td>True</td>\n",
              "      <td>False</td>\n",
              "      <td>False</td>\n",
              "      <td>True</td>\n",
              "      <td>False</td>\n",
              "      <td>False</td>\n",
              "      <td>True</td>\n",
              "      <td>False</td>\n",
              "      <td>...</td>\n",
              "      <td>True</td>\n",
              "      <td>True</td>\n",
              "      <td>False</td>\n",
              "      <td>False</td>\n",
              "      <td>False</td>\n",
              "      <td>False</td>\n",
              "      <td>True</td>\n",
              "      <td>False</td>\n",
              "      <td>True</td>\n",
              "      <td>False</td>\n",
              "    </tr>\n",
              "    <tr>\n",
              "      <th>1</th>\n",
              "      <td>True</td>\n",
              "      <td>False</td>\n",
              "      <td>True</td>\n",
              "      <td>False</td>\n",
              "      <td>False</td>\n",
              "      <td>True</td>\n",
              "      <td>False</td>\n",
              "      <td>False</td>\n",
              "      <td>True</td>\n",
              "      <td>False</td>\n",
              "      <td>...</td>\n",
              "      <td>True</td>\n",
              "      <td>True</td>\n",
              "      <td>False</td>\n",
              "      <td>False</td>\n",
              "      <td>False</td>\n",
              "      <td>False</td>\n",
              "      <td>True</td>\n",
              "      <td>False</td>\n",
              "      <td>True</td>\n",
              "      <td>False</td>\n",
              "    </tr>\n",
              "    <tr>\n",
              "      <th>2</th>\n",
              "      <td>False</td>\n",
              "      <td>True</td>\n",
              "      <td>True</td>\n",
              "      <td>False</td>\n",
              "      <td>False</td>\n",
              "      <td>True</td>\n",
              "      <td>False</td>\n",
              "      <td>False</td>\n",
              "      <td>False</td>\n",
              "      <td>True</td>\n",
              "      <td>...</td>\n",
              "      <td>False</td>\n",
              "      <td>False</td>\n",
              "      <td>False</td>\n",
              "      <td>True</td>\n",
              "      <td>False</td>\n",
              "      <td>False</td>\n",
              "      <td>True</td>\n",
              "      <td>False</td>\n",
              "      <td>False</td>\n",
              "      <td>True</td>\n",
              "    </tr>\n",
              "    <tr>\n",
              "      <th>3</th>\n",
              "      <td>False</td>\n",
              "      <td>True</td>\n",
              "      <td>True</td>\n",
              "      <td>False</td>\n",
              "      <td>False</td>\n",
              "      <td>False</td>\n",
              "      <td>True</td>\n",
              "      <td>False</td>\n",
              "      <td>False</td>\n",
              "      <td>True</td>\n",
              "      <td>...</td>\n",
              "      <td>True</td>\n",
              "      <td>True</td>\n",
              "      <td>False</td>\n",
              "      <td>False</td>\n",
              "      <td>False</td>\n",
              "      <td>False</td>\n",
              "      <td>True</td>\n",
              "      <td>False</td>\n",
              "      <td>True</td>\n",
              "      <td>False</td>\n",
              "    </tr>\n",
              "    <tr>\n",
              "      <th>4</th>\n",
              "      <td>False</td>\n",
              "      <td>True</td>\n",
              "      <td>True</td>\n",
              "      <td>False</td>\n",
              "      <td>False</td>\n",
              "      <td>True</td>\n",
              "      <td>False</td>\n",
              "      <td>False</td>\n",
              "      <td>False</td>\n",
              "      <td>True</td>\n",
              "      <td>...</td>\n",
              "      <td>False</td>\n",
              "      <td>False</td>\n",
              "      <td>False</td>\n",
              "      <td>True</td>\n",
              "      <td>False</td>\n",
              "      <td>False</td>\n",
              "      <td>True</td>\n",
              "      <td>False</td>\n",
              "      <td>False</td>\n",
              "      <td>True</td>\n",
              "    </tr>\n",
              "    <tr>\n",
              "      <th>...</th>\n",
              "      <td>...</td>\n",
              "      <td>...</td>\n",
              "      <td>...</td>\n",
              "      <td>...</td>\n",
              "      <td>...</td>\n",
              "      <td>...</td>\n",
              "      <td>...</td>\n",
              "      <td>...</td>\n",
              "      <td>...</td>\n",
              "      <td>...</td>\n",
              "      <td>...</td>\n",
              "      <td>...</td>\n",
              "      <td>...</td>\n",
              "      <td>...</td>\n",
              "      <td>...</td>\n",
              "      <td>...</td>\n",
              "      <td>...</td>\n",
              "      <td>...</td>\n",
              "      <td>...</td>\n",
              "      <td>...</td>\n",
              "      <td>...</td>\n",
              "    </tr>\n",
              "    <tr>\n",
              "      <th>128</th>\n",
              "      <td>True</td>\n",
              "      <td>False</td>\n",
              "      <td>False</td>\n",
              "      <td>False</td>\n",
              "      <td>True</td>\n",
              "      <td>True</td>\n",
              "      <td>False</td>\n",
              "      <td>False</td>\n",
              "      <td>False</td>\n",
              "      <td>True</td>\n",
              "      <td>...</td>\n",
              "      <td>False</td>\n",
              "      <td>False</td>\n",
              "      <td>False</td>\n",
              "      <td>True</td>\n",
              "      <td>False</td>\n",
              "      <td>False</td>\n",
              "      <td>False</td>\n",
              "      <td>True</td>\n",
              "      <td>False</td>\n",
              "      <td>True</td>\n",
              "    </tr>\n",
              "    <tr>\n",
              "      <th>129</th>\n",
              "      <td>False</td>\n",
              "      <td>True</td>\n",
              "      <td>False</td>\n",
              "      <td>False</td>\n",
              "      <td>True</td>\n",
              "      <td>True</td>\n",
              "      <td>False</td>\n",
              "      <td>True</td>\n",
              "      <td>False</td>\n",
              "      <td>False</td>\n",
              "      <td>...</td>\n",
              "      <td>True</td>\n",
              "      <td>True</td>\n",
              "      <td>False</td>\n",
              "      <td>False</td>\n",
              "      <td>False</td>\n",
              "      <td>False</td>\n",
              "      <td>False</td>\n",
              "      <td>True</td>\n",
              "      <td>False</td>\n",
              "      <td>True</td>\n",
              "    </tr>\n",
              "    <tr>\n",
              "      <th>130</th>\n",
              "      <td>False</td>\n",
              "      <td>True</td>\n",
              "      <td>False</td>\n",
              "      <td>False</td>\n",
              "      <td>True</td>\n",
              "      <td>False</td>\n",
              "      <td>True</td>\n",
              "      <td>False</td>\n",
              "      <td>False</td>\n",
              "      <td>True</td>\n",
              "      <td>...</td>\n",
              "      <td>False</td>\n",
              "      <td>False</td>\n",
              "      <td>False</td>\n",
              "      <td>True</td>\n",
              "      <td>False</td>\n",
              "      <td>False</td>\n",
              "      <td>False</td>\n",
              "      <td>True</td>\n",
              "      <td>False</td>\n",
              "      <td>True</td>\n",
              "    </tr>\n",
              "    <tr>\n",
              "      <th>131</th>\n",
              "      <td>True</td>\n",
              "      <td>False</td>\n",
              "      <td>False</td>\n",
              "      <td>False</td>\n",
              "      <td>True</td>\n",
              "      <td>False</td>\n",
              "      <td>True</td>\n",
              "      <td>False</td>\n",
              "      <td>False</td>\n",
              "      <td>True</td>\n",
              "      <td>...</td>\n",
              "      <td>False</td>\n",
              "      <td>False</td>\n",
              "      <td>False</td>\n",
              "      <td>True</td>\n",
              "      <td>False</td>\n",
              "      <td>False</td>\n",
              "      <td>False</td>\n",
              "      <td>True</td>\n",
              "      <td>False</td>\n",
              "      <td>True</td>\n",
              "    </tr>\n",
              "    <tr>\n",
              "      <th>132</th>\n",
              "      <td>False</td>\n",
              "      <td>True</td>\n",
              "      <td>False</td>\n",
              "      <td>False</td>\n",
              "      <td>True</td>\n",
              "      <td>False</td>\n",
              "      <td>True</td>\n",
              "      <td>False</td>\n",
              "      <td>True</td>\n",
              "      <td>False</td>\n",
              "      <td>...</td>\n",
              "      <td>False</td>\n",
              "      <td>False</td>\n",
              "      <td>False</td>\n",
              "      <td>True</td>\n",
              "      <td>False</td>\n",
              "      <td>False</td>\n",
              "      <td>False</td>\n",
              "      <td>True</td>\n",
              "      <td>False</td>\n",
              "      <td>True</td>\n",
              "    </tr>\n",
              "  </tbody>\n",
              "</table>\n",
              "<p>133 rows × 65 columns</p>\n",
              "</div>"
            ],
            "text/plain": [
              "     ontimegrad_No  ontimegrad_Yes  \\\n",
              "0            False            True   \n",
              "1             True           False   \n",
              "2            False            True   \n",
              "3            False            True   \n",
              "4            False            True   \n",
              "..             ...             ...   \n",
              "128           True           False   \n",
              "129          False            True   \n",
              "130          False            True   \n",
              "131           True           False   \n",
              "132          False            True   \n",
              "\n",
              "     study_program_Education in Electronic Engineering  \\\n",
              "0                                                 True   \n",
              "1                                                 True   \n",
              "2                                                 True   \n",
              "3                                                 True   \n",
              "4                                                 True   \n",
              "..                                                 ...   \n",
              "128                                              False   \n",
              "129                                              False   \n",
              "130                                              False   \n",
              "131                                              False   \n",
              "132                                              False   \n",
              "\n",
              "     study_program_Education in Informatics Engineering  \\\n",
              "0                                                False    \n",
              "1                                                False    \n",
              "2                                                False    \n",
              "3                                                False    \n",
              "4                                                False    \n",
              "..                                                 ...    \n",
              "128                                              False    \n",
              "129                                              False    \n",
              "130                                              False    \n",
              "131                                              False    \n",
              "132                                              False    \n",
              "\n",
              "     study_program_Information Technology  extra_curr_no  extra_curr_yes  \\\n",
              "0                                   False           True           False   \n",
              "1                                   False           True           False   \n",
              "2                                   False           True           False   \n",
              "3                                   False          False            True   \n",
              "4                                   False           True           False   \n",
              "..                                    ...            ...             ...   \n",
              "128                                  True           True           False   \n",
              "129                                  True           True           False   \n",
              "130                                  True          False            True   \n",
              "131                                  True          False            True   \n",
              "132                                  True          False            True   \n",
              "\n",
              "     achievement_International  achievement_National  achievement_No  ...  \\\n",
              "0                        False                  True           False  ...   \n",
              "1                        False                  True           False  ...   \n",
              "2                        False                 False            True  ...   \n",
              "3                        False                 False            True  ...   \n",
              "4                        False                 False            True  ...   \n",
              "..                         ...                   ...             ...  ...   \n",
              "128                      False                 False            True  ...   \n",
              "129                       True                 False           False  ...   \n",
              "130                      False                 False            True  ...   \n",
              "131                      False                 False            True  ...   \n",
              "132                      False                  True           False  ...   \n",
              "\n",
              "     school_type_Vocational  school_major_EEC  school_major_Non-EEC  \\\n",
              "0                      True              True                 False   \n",
              "1                      True              True                 False   \n",
              "2                     False             False                 False   \n",
              "3                      True              True                 False   \n",
              "4                     False             False                 False   \n",
              "..                      ...               ...                   ...   \n",
              "128                   False             False                 False   \n",
              "129                    True              True                 False   \n",
              "130                   False             False                 False   \n",
              "131                   False             False                 False   \n",
              "132                   False             False                 False   \n",
              "\n",
              "     school_major_Science  school_major_Social Science  entrance_SBMPTN  \\\n",
              "0                   False                        False            False   \n",
              "1                   False                        False            False   \n",
              "2                    True                        False            False   \n",
              "3                   False                        False            False   \n",
              "4                    True                        False            False   \n",
              "..                    ...                          ...              ...   \n",
              "128                  True                        False            False   \n",
              "129                 False                        False            False   \n",
              "130                  True                        False            False   \n",
              "131                  True                        False            False   \n",
              "132                  True                        False            False   \n",
              "\n",
              "     entrance_SNMPTN  entrance_Seleksi Mandiri  funding_type_Bidik Misi  \\\n",
              "0               True                     False                     True   \n",
              "1               True                     False                     True   \n",
              "2               True                     False                    False   \n",
              "3               True                     False                     True   \n",
              "4               True                     False                    False   \n",
              "..               ...                       ...                      ...   \n",
              "128            False                      True                    False   \n",
              "129            False                      True                    False   \n",
              "130            False                      True                    False   \n",
              "131            False                      True                    False   \n",
              "132            False                      True                    False   \n",
              "\n",
              "     funding_type_Non Bidikmisi  \n",
              "0                         False  \n",
              "1                         False  \n",
              "2                          True  \n",
              "3                         False  \n",
              "4                          True  \n",
              "..                          ...  \n",
              "128                        True  \n",
              "129                        True  \n",
              "130                        True  \n",
              "131                        True  \n",
              "132                        True  \n",
              "\n",
              "[133 rows x 65 columns]"
            ]
          },
          "execution_count": 63,
          "metadata": {},
          "output_type": "execute_result"
        }
      ],
      "source": [
        "cat_features_encoded = df_encoded.select_dtypes(include='bool')\n",
        "cat_features_encoded"
      ]
    },
    {
      "cell_type": "code",
      "execution_count": 64,
      "metadata": {
        "id": "V3wro4Ilbh_D"
      },
      "outputs": [],
      "source": [
        "# Create a DataFrame for feature importances\n",
        "feature_importance_df = pd.DataFrame({'feature': X.columns, 'importance': importances})\n",
        "\n",
        "# Separate categorical and numerical features\n",
        "categorical_importance_df = feature_importance_df[feature_importance_df['feature'].isin(cat_features_encoded)]\n",
        "numerical_importance_df = feature_importance_df[feature_importance_df['feature'].isin(num_features)]\n"
      ]
    },
    {
      "cell_type": "code",
      "execution_count": 65,
      "metadata": {
        "colab": {
          "base_uri": "https://localhost:8080/",
          "height": 363
        },
        "id": "8E9y04ECd7GO",
        "outputId": "490e6298-aa3c-440f-fd49-8150f1e972b6"
      },
      "outputs": [
        {
          "data": {
            "text/html": [
              "<div>\n",
              "<style scoped>\n",
              "    .dataframe tbody tr th:only-of-type {\n",
              "        vertical-align: middle;\n",
              "    }\n",
              "\n",
              "    .dataframe tbody tr th {\n",
              "        vertical-align: top;\n",
              "    }\n",
              "\n",
              "    .dataframe thead th {\n",
              "        text-align: right;\n",
              "    }\n",
              "</style>\n",
              "<table border=\"1\" class=\"dataframe\">\n",
              "  <thead>\n",
              "    <tr style=\"text-align: right;\">\n",
              "      <th></th>\n",
              "      <th>feature</th>\n",
              "      <th>importance</th>\n",
              "    </tr>\n",
              "  </thead>\n",
              "  <tbody>\n",
              "    <tr>\n",
              "      <th>18</th>\n",
              "      <td>ontimegrad_No</td>\n",
              "      <td>0.330572</td>\n",
              "    </tr>\n",
              "    <tr>\n",
              "      <th>19</th>\n",
              "      <td>study_program_Education in Electronic Engineering</td>\n",
              "      <td>0.000634</td>\n",
              "    </tr>\n",
              "    <tr>\n",
              "      <th>20</th>\n",
              "      <td>study_program_Education in Informatics Enginee...</td>\n",
              "      <td>0.002153</td>\n",
              "    </tr>\n",
              "    <tr>\n",
              "      <th>21</th>\n",
              "      <td>study_program_Information Technology</td>\n",
              "      <td>0.003672</td>\n",
              "    </tr>\n",
              "    <tr>\n",
              "      <th>22</th>\n",
              "      <td>extra_curr_no</td>\n",
              "      <td>0.015413</td>\n",
              "    </tr>\n",
              "    <tr>\n",
              "      <th>23</th>\n",
              "      <td>extra_curr_yes</td>\n",
              "      <td>0.016938</td>\n",
              "    </tr>\n",
              "    <tr>\n",
              "      <th>24</th>\n",
              "      <td>achievement_International</td>\n",
              "      <td>0.004995</td>\n",
              "    </tr>\n",
              "    <tr>\n",
              "      <th>25</th>\n",
              "      <td>achievement_National</td>\n",
              "      <td>0.004285</td>\n",
              "    </tr>\n",
              "    <tr>\n",
              "      <th>26</th>\n",
              "      <td>achievement_No</td>\n",
              "      <td>0.004079</td>\n",
              "    </tr>\n",
              "    <tr>\n",
              "      <th>27</th>\n",
              "      <td>domicile_In</td>\n",
              "      <td>0.000619</td>\n",
              "    </tr>\n",
              "  </tbody>\n",
              "</table>\n",
              "</div>"
            ],
            "text/plain": [
              "                                              feature  importance\n",
              "18                                      ontimegrad_No    0.330572\n",
              "19  study_program_Education in Electronic Engineering    0.000634\n",
              "20  study_program_Education in Informatics Enginee...    0.002153\n",
              "21               study_program_Information Technology    0.003672\n",
              "22                                      extra_curr_no    0.015413\n",
              "23                                     extra_curr_yes    0.016938\n",
              "24                          achievement_International    0.004995\n",
              "25                               achievement_National    0.004285\n",
              "26                                     achievement_No    0.004079\n",
              "27                                        domicile_In    0.000619"
            ]
          },
          "execution_count": 65,
          "metadata": {},
          "output_type": "execute_result"
        }
      ],
      "source": [
        "categorical_importance_df.head(10)"
      ]
    },
    {
      "cell_type": "code",
      "execution_count": 66,
      "metadata": {
        "colab": {
          "base_uri": "https://localhost:8080/",
          "height": 206
        },
        "id": "WWxSW_jeeCbp",
        "outputId": "24f22edd-bdbd-4b1e-903a-b34705bab53c"
      },
      "outputs": [
        {
          "data": {
            "text/html": [
              "<div>\n",
              "<style scoped>\n",
              "    .dataframe tbody tr th:only-of-type {\n",
              "        vertical-align: middle;\n",
              "    }\n",
              "\n",
              "    .dataframe tbody tr th {\n",
              "        vertical-align: top;\n",
              "    }\n",
              "\n",
              "    .dataframe thead th {\n",
              "        text-align: right;\n",
              "    }\n",
              "</style>\n",
              "<table border=\"1\" class=\"dataframe\">\n",
              "  <thead>\n",
              "    <tr style=\"text-align: right;\">\n",
              "      <th></th>\n",
              "      <th>feature</th>\n",
              "      <th>importance</th>\n",
              "    </tr>\n",
              "  </thead>\n",
              "  <tbody>\n",
              "    <tr>\n",
              "      <th>0</th>\n",
              "      <td>national_exam</td>\n",
              "      <td>0.020260</td>\n",
              "    </tr>\n",
              "    <tr>\n",
              "      <th>1</th>\n",
              "      <td>toefl</td>\n",
              "      <td>0.021023</td>\n",
              "    </tr>\n",
              "    <tr>\n",
              "      <th>2</th>\n",
              "      <td>gpa1</td>\n",
              "      <td>0.015721</td>\n",
              "    </tr>\n",
              "    <tr>\n",
              "      <th>3</th>\n",
              "      <td>gpa2</td>\n",
              "      <td>0.021473</td>\n",
              "    </tr>\n",
              "    <tr>\n",
              "      <th>4</th>\n",
              "      <td>gpa3</td>\n",
              "      <td>0.036068</td>\n",
              "    </tr>\n",
              "  </tbody>\n",
              "</table>\n",
              "</div>"
            ],
            "text/plain": [
              "         feature  importance\n",
              "0  national_exam    0.020260\n",
              "1          toefl    0.021023\n",
              "2           gpa1    0.015721\n",
              "3           gpa2    0.021473\n",
              "4           gpa3    0.036068"
            ]
          },
          "execution_count": 66,
          "metadata": {},
          "output_type": "execute_result"
        }
      ],
      "source": [
        "numerical_importance_df.head()"
      ]
    },
    {
      "cell_type": "code",
      "execution_count": 67,
      "metadata": {
        "colab": {
          "base_uri": "https://localhost:8080/",
          "height": 687
        },
        "id": "T6rAqe7dc7Zl",
        "outputId": "201f8b76-21f0-4507-a750-cb6363b73020"
      },
      "outputs": [
        {
          "data": {
            "image/png": "[encoded data removed]",
            "text/plain": [
              "<Figure size 1200x600 with 1 Axes>"
            ]
          },
          "metadata": {},
          "output_type": "display_data"
        },
        {
          "data": {
            "image/png": "[encoded data removed]",
            "text/plain": [
              "<Figure size 1200x600 with 1 Axes>"
            ]
          },
          "metadata": {},
          "output_type": "display_data"
        }
      ],
      "source": [
        "# Get top 10 categorical features\n",
        "top_10_categorical = categorical_importance_df.sort_values(by='importance', ascending=False).head(10)\n",
        "\n",
        "# Get top 10 numerical features\n",
        "top_10_numerical = numerical_importance_df.sort_values(by='importance', ascending=False).head(10)\n",
        "\n",
        "# Plot top 10 categorical features\n",
        "plt.figure(figsize=(12, 6))\n",
        "sns.barplot(x='importance', y='feature', data=top_10_categorical)\n",
        "plt.title('Top 10 Categorical Feature Importances')\n",
        "plt.xlabel('Importance')\n",
        "plt.ylabel('Features')\n",
        "plt.show()\n",
        "\n",
        "# Plot top 10 numerical features\n",
        "plt.figure(figsize=(12, 6))\n",
        "sns.barplot(x='importance', y='feature', data=top_10_numerical)\n",
        "plt.title('Top 10 Numerical Feature Importances')\n",
        "plt.xlabel('Importance')\n",
        "plt.ylabel('Features')\n",
        "plt.show()"
      ]
    },
    {
      "cell_type": "code",
      "execution_count": 68,
      "metadata": {
        "colab": {
          "base_uri": "https://localhost:8080/"
        },
        "id": "KY_5ENgsBZ3J",
        "outputId": "97403dd5-79f6-4ad7-f611-291e6354882c"
      },
      "outputs": [
        {
          "data": {
            "text/plain": [
              "ontimegrad_No                                         bool\n",
              "ontimegrad_Yes                                        bool\n",
              "study_program_Education in Electronic Engineering     bool\n",
              "study_program_Education in Informatics Engineering    bool\n",
              "study_program_Information Technology                  bool\n",
              "                                                      ... \n",
              "entrance_SBMPTN                                       bool\n",
              "entrance_SNMPTN                                       bool\n",
              "entrance_Seleksi Mandiri                              bool\n",
              "funding_type_Bidik Misi                               bool\n",
              "funding_type_Non Bidikmisi                            bool\n",
              "Length: 65, dtype: object"
            ]
          },
          "execution_count": 68,
          "metadata": {},
          "output_type": "execute_result"
        }
      ],
      "source": [
        "cat_features_encoded.dtypes"
      ]
    },
    {
      "cell_type": "markdown",
      "metadata": {
        "id": "gzRye6fFBQ1Q"
      },
      "source": [
        "Map the Target Column"
      ]
    },
    {
      "cell_type": "code",
      "execution_count": 69,
      "metadata": {
        "id": "JmqO8ntMCr_D"
      },
      "outputs": [],
      "source": [
        "# Map 'ontimegrad' to numerical values\n",
        "df['ontimegrad'] = df['ontimegrad'].map({'Yes':1, 'No':0})"
      ]
    },
    {
      "cell_type": "code",
      "execution_count": 70,
      "metadata": {
        "colab": {
          "base_uri": "https://localhost:8080/",
          "height": 429
        },
        "id": "920oeHBDy8Sa",
        "outputId": "68c4cc42-0cf4-4b95-f89c-0f3a780f21f2"
      },
      "outputs": [
        {
          "data": {
            "text/html": [
              "<div>\n",
              "<style scoped>\n",
              "    .dataframe tbody tr th:only-of-type {\n",
              "        vertical-align: middle;\n",
              "    }\n",
              "\n",
              "    .dataframe tbody tr th {\n",
              "        vertical-align: top;\n",
              "    }\n",
              "\n",
              "    .dataframe thead th {\n",
              "        text-align: right;\n",
              "    }\n",
              "</style>\n",
              "<table border=\"1\" class=\"dataframe\">\n",
              "  <thead>\n",
              "    <tr style=\"text-align: right;\">\n",
              "      <th></th>\n",
              "      <th>ontimegrad</th>\n",
              "      <th>study_program</th>\n",
              "      <th>extra_curr</th>\n",
              "      <th>achievement</th>\n",
              "      <th>domicile</th>\n",
              "      <th>F_Edu</th>\n",
              "      <th>M_Edu</th>\n",
              "      <th>F_Job</th>\n",
              "      <th>M_Job</th>\n",
              "      <th>sex</th>\n",
              "      <th>...</th>\n",
              "      <th>Mathematics</th>\n",
              "      <th>Lab_Electronical</th>\n",
              "      <th>Electronical</th>\n",
              "      <th>Language</th>\n",
              "      <th>Lab_Social_Science</th>\n",
              "      <th>Social_Science</th>\n",
              "      <th>Science_Tech</th>\n",
              "      <th>Lab_Science_Tech</th>\n",
              "      <th>Programming</th>\n",
              "      <th>Lab_Programming</th>\n",
              "    </tr>\n",
              "  </thead>\n",
              "  <tbody>\n",
              "    <tr>\n",
              "      <th>0</th>\n",
              "      <td>NaN</td>\n",
              "      <td>Education in Electronic Engineering</td>\n",
              "      <td>no</td>\n",
              "      <td>National</td>\n",
              "      <td>In</td>\n",
              "      <td>Primary School</td>\n",
              "      <td>Primary School</td>\n",
              "      <td>Labour</td>\n",
              "      <td>Not Working</td>\n",
              "      <td>F</td>\n",
              "      <td>...</td>\n",
              "      <td>3.08</td>\n",
              "      <td>3.67</td>\n",
              "      <td>3.57</td>\n",
              "      <td>3.67</td>\n",
              "      <td>4.00</td>\n",
              "      <td>3.78</td>\n",
              "      <td>3.84</td>\n",
              "      <td>3.84</td>\n",
              "      <td>3.84</td>\n",
              "      <td>3.33</td>\n",
              "    </tr>\n",
              "    <tr>\n",
              "      <th>1</th>\n",
              "      <td>NaN</td>\n",
              "      <td>Education in Electronic Engineering</td>\n",
              "      <td>no</td>\n",
              "      <td>National</td>\n",
              "      <td>In</td>\n",
              "      <td>Senior High School</td>\n",
              "      <td>Junior High School</td>\n",
              "      <td>Labour</td>\n",
              "      <td>Not Working</td>\n",
              "      <td>F</td>\n",
              "      <td>...</td>\n",
              "      <td>3.17</td>\n",
              "      <td>3.74</td>\n",
              "      <td>3.30</td>\n",
              "      <td>3.34</td>\n",
              "      <td>3.78</td>\n",
              "      <td>3.69</td>\n",
              "      <td>3.34</td>\n",
              "      <td>3.67</td>\n",
              "      <td>3.67</td>\n",
              "      <td>3.33</td>\n",
              "    </tr>\n",
              "    <tr>\n",
              "      <th>2</th>\n",
              "      <td>NaN</td>\n",
              "      <td>Education in Electronic Engineering</td>\n",
              "      <td>no</td>\n",
              "      <td>No</td>\n",
              "      <td>In</td>\n",
              "      <td>Senior High School</td>\n",
              "      <td>Junior High School</td>\n",
              "      <td>Employee</td>\n",
              "      <td>Labour</td>\n",
              "      <td>F</td>\n",
              "      <td>...</td>\n",
              "      <td>3.25</td>\n",
              "      <td>3.65</td>\n",
              "      <td>3.41</td>\n",
              "      <td>3.67</td>\n",
              "      <td>4.00</td>\n",
              "      <td>3.69</td>\n",
              "      <td>3.50</td>\n",
              "      <td>3.84</td>\n",
              "      <td>4.00</td>\n",
              "      <td>3.00</td>\n",
              "    </tr>\n",
              "    <tr>\n",
              "      <th>3</th>\n",
              "      <td>NaN</td>\n",
              "      <td>Education in Electronic Engineering</td>\n",
              "      <td>yes</td>\n",
              "      <td>No</td>\n",
              "      <td>In</td>\n",
              "      <td>Primary School</td>\n",
              "      <td>Primary School</td>\n",
              "      <td>Labour</td>\n",
              "      <td>Not Working</td>\n",
              "      <td>F</td>\n",
              "      <td>...</td>\n",
              "      <td>3.08</td>\n",
              "      <td>3.69</td>\n",
              "      <td>3.45</td>\n",
              "      <td>3.33</td>\n",
              "      <td>4.00</td>\n",
              "      <td>3.62</td>\n",
              "      <td>3.50</td>\n",
              "      <td>3.84</td>\n",
              "      <td>4.00</td>\n",
              "      <td>3.33</td>\n",
              "    </tr>\n",
              "    <tr>\n",
              "      <th>4</th>\n",
              "      <td>NaN</td>\n",
              "      <td>Education in Electronic Engineering</td>\n",
              "      <td>no</td>\n",
              "      <td>No</td>\n",
              "      <td>Out</td>\n",
              "      <td>Junior High School</td>\n",
              "      <td>Senior High School</td>\n",
              "      <td>Labour</td>\n",
              "      <td>Labour</td>\n",
              "      <td>F</td>\n",
              "      <td>...</td>\n",
              "      <td>3.50</td>\n",
              "      <td>3.61</td>\n",
              "      <td>3.55</td>\n",
              "      <td>3.67</td>\n",
              "      <td>4.00</td>\n",
              "      <td>3.67</td>\n",
              "      <td>3.50</td>\n",
              "      <td>3.84</td>\n",
              "      <td>3.84</td>\n",
              "      <td>3.00</td>\n",
              "    </tr>\n",
              "  </tbody>\n",
              "</table>\n",
              "<p>5 rows × 33 columns</p>\n",
              "</div>"
            ],
            "text/plain": [
              "   ontimegrad                        study_program extra_curr achievement  \\\n",
              "0         NaN  Education in Electronic Engineering         no    National   \n",
              "1         NaN  Education in Electronic Engineering         no    National   \n",
              "2         NaN  Education in Electronic Engineering         no          No   \n",
              "3         NaN  Education in Electronic Engineering        yes          No   \n",
              "4         NaN  Education in Electronic Engineering         no          No   \n",
              "\n",
              "  domicile               F_Edu               M_Edu     F_Job        M_Job sex  \\\n",
              "0       In      Primary School      Primary School    Labour  Not Working   F   \n",
              "1       In  Senior High School  Junior High School    Labour  Not Working   F   \n",
              "2       In  Senior High School  Junior High School  Employee       Labour   F   \n",
              "3       In      Primary School      Primary School    Labour  Not Working   F   \n",
              "4      Out  Junior High School  Senior High School    Labour       Labour   F   \n",
              "\n",
              "   ...  Mathematics Lab_Electronical Electronical Language Lab_Social_Science  \\\n",
              "0  ...         3.08             3.67         3.57     3.67               4.00   \n",
              "1  ...         3.17             3.74         3.30     3.34               3.78   \n",
              "2  ...         3.25             3.65         3.41     3.67               4.00   \n",
              "3  ...         3.08             3.69         3.45     3.33               4.00   \n",
              "4  ...         3.50             3.61         3.55     3.67               4.00   \n",
              "\n",
              "  Social_Science  Science_Tech  Lab_Science_Tech  Programming  Lab_Programming  \n",
              "0           3.78          3.84              3.84         3.84             3.33  \n",
              "1           3.69          3.34              3.67         3.67             3.33  \n",
              "2           3.69          3.50              3.84         4.00             3.00  \n",
              "3           3.62          3.50              3.84         4.00             3.33  \n",
              "4           3.67          3.50              3.84         3.84             3.00  \n",
              "\n",
              "[5 rows x 33 columns]"
            ]
          },
          "execution_count": 70,
          "metadata": {},
          "output_type": "execute_result"
        }
      ],
      "source": [
        "df.head()"
      ]
    },
    {
      "cell_type": "code",
      "execution_count": 71,
      "metadata": {
        "id": "lLv6n1UNzA08"
      },
      "outputs": [],
      "source": [
        "from sklearn.preprocessing import OneHotEncoder\n",
        "from sklearn.compose import ColumnTransformer\n",
        "from sklearn.pipeline import Pipeline\n",
        "from sklearn.impute import SimpleImputer\n",
        "from sklearn.model_selection import train_test_split\n",
        "from sklearn.metrics import accuracy_score, f1_score, recall_score, roc_auc_score, confusion_matrix, roc_curve, auc, classification_report\n",
        "\n",
        "target_column = 'ontimegrad'\n",
        "\n",
        "# Define features and target variable\n",
        "X = df.drop(target_column, axis=1)\n",
        "y = df[target_column]\n",
        "\n",
        "# Identify categorical and numerical columns\n",
        "cat_cols = X.select_dtypes(include=['object']).columns\n",
        "num_cols = X.select_dtypes(include=['int64','float64']).columns"
      ]
    },
    {
      "cell_type": "code",
      "execution_count": 72,
      "metadata": {
        "id": "ozp8QgCo0Um3"
      },
      "outputs": [],
      "source": [
        "# Preprocessing for numerical data\n",
        "numerical_transformer = Pipeline(steps=[\n",
        "    ('imputer', SimpleImputer(strategy='median')),\n",
        "    ('scaler', StandardScaler())\n",
        "])\n",
        "\n",
        "# Preprocessing for categorical data\n",
        "categorical_transformer = Pipeline(steps=[\n",
        "    ('imputer', SimpleImputer(strategy='most_frequent')),\n",
        "    ('onehot', OneHotEncoder(handle_unknown='ignore'))\n",
        "])"
      ]
    },
    {
      "cell_type": "code",
      "execution_count": 73,
      "metadata": {
        "id": "vwEv4q6h1TlJ"
      },
      "outputs": [],
      "source": [
        "# Combine Preprocessing steps\n",
        "preprocessor = ColumnTransformer(\n",
        "    transformers = [\n",
        "        ('num', numerical_transformer, num_cols),\n",
        "        ('cat', categorical_transformer, cat_cols)\n",
        "    ]\n",
        ")"
      ]
    },
    {
      "cell_type": "code",
      "execution_count": 74,
      "metadata": {
        "id": "1PpOodMy1lJO"
      },
      "outputs": [],
      "source": [
        "# Split data into training and testing sets\n",
        "X_train, X_test, y_train, y_test = train_test_split(X, y, test_size=0.2, random_state=42)\n",
        "\n"
      ]
    },
    {
      "cell_type": "code",
      "execution_count": 75,
      "metadata": {
        "colab": {
          "base_uri": "https://localhost:8080/",
          "height": 227
        },
        "id": "ltLMh_Ui2GDW",
        "outputId": "a1eed592-0288-44b1-8c5b-8b8ea68442d7"
      },
      "outputs": [
        {
          "ename": "ValueError",
          "evalue": "Input y contains NaN.",
          "output_type": "error",
          "traceback": [
            "\u001b[0;31m---------------------------------------------------------------------------\u001b[0m",
            "\u001b[0;31mValueError\u001b[0m                                Traceback (most recent call last)",
            "Cell \u001b[0;32mIn[75], line 6\u001b[0m\n\u001b[1;32m      2\u001b[0m model \u001b[38;5;241m=\u001b[39m Pipeline(steps\u001b[38;5;241m=\u001b[39m[(\u001b[38;5;124m'\u001b[39m\u001b[38;5;124mpreprocessor\u001b[39m\u001b[38;5;124m'\u001b[39m, preprocessor),\n\u001b[1;32m      3\u001b[0m                         (\u001b[38;5;124m'\u001b[39m\u001b[38;5;124mclassifier\u001b[39m\u001b[38;5;124m'\u001b[39m, RandomForestClassifier(random_state\u001b[38;5;241m=\u001b[39m\u001b[38;5;241m42\u001b[39m))])\n\u001b[1;32m      5\u001b[0m \u001b[38;5;66;03m# Train the model\u001b[39;00m\n\u001b[0;32m----> 6\u001b[0m \u001b[43mmodel\u001b[49m\u001b[38;5;241;43m.\u001b[39;49m\u001b[43mfit\u001b[49m\u001b[43m(\u001b[49m\u001b[43mX_train\u001b[49m\u001b[43m,\u001b[49m\u001b[43m \u001b[49m\u001b[43my_train\u001b[49m\u001b[43m)\u001b[49m\n",
            "File \u001b[0;32m~/.local/lib/python3.10/site-packages/sklearn/base.py:1152\u001b[0m, in \u001b[0;36m_fit_context.<locals>.decorator.<locals>.wrapper\u001b[0;34m(estimator, *args, **kwargs)\u001b[0m\n\u001b[1;32m   1145\u001b[0m     estimator\u001b[38;5;241m.\u001b[39m_validate_params()\n\u001b[1;32m   1147\u001b[0m \u001b[38;5;28;01mwith\u001b[39;00m config_context(\n\u001b[1;32m   1148\u001b[0m     skip_parameter_validation\u001b[38;5;241m=\u001b[39m(\n\u001b[1;32m   1149\u001b[0m         prefer_skip_nested_validation \u001b[38;5;129;01mor\u001b[39;00m global_skip_validation\n\u001b[1;32m   1150\u001b[0m     )\n\u001b[1;32m   1151\u001b[0m ):\n\u001b[0;32m-> 1152\u001b[0m     \u001b[38;5;28;01mreturn\u001b[39;00m \u001b[43mfit_method\u001b[49m\u001b[43m(\u001b[49m\u001b[43mestimator\u001b[49m\u001b[43m,\u001b[49m\u001b[43m \u001b[49m\u001b[38;5;241;43m*\u001b[39;49m\u001b[43margs\u001b[49m\u001b[43m,\u001b[49m\u001b[43m \u001b[49m\u001b[38;5;241;43m*\u001b[39;49m\u001b[38;5;241;43m*\u001b[39;49m\u001b[43mkwargs\u001b[49m\u001b[43m)\u001b[49m\n",
            "File \u001b[0;32m~/.local/lib/python3.10/site-packages/sklearn/pipeline.py:427\u001b[0m, in \u001b[0;36mPipeline.fit\u001b[0;34m(self, X, y, **fit_params)\u001b[0m\n\u001b[1;32m    425\u001b[0m     \u001b[38;5;28;01mif\u001b[39;00m \u001b[38;5;28mself\u001b[39m\u001b[38;5;241m.\u001b[39m_final_estimator \u001b[38;5;241m!=\u001b[39m \u001b[38;5;124m\"\u001b[39m\u001b[38;5;124mpassthrough\u001b[39m\u001b[38;5;124m\"\u001b[39m:\n\u001b[1;32m    426\u001b[0m         fit_params_last_step \u001b[38;5;241m=\u001b[39m fit_params_steps[\u001b[38;5;28mself\u001b[39m\u001b[38;5;241m.\u001b[39msteps[\u001b[38;5;241m-\u001b[39m\u001b[38;5;241m1\u001b[39m][\u001b[38;5;241m0\u001b[39m]]\n\u001b[0;32m--> 427\u001b[0m         \u001b[38;5;28;43mself\u001b[39;49m\u001b[38;5;241;43m.\u001b[39;49m\u001b[43m_final_estimator\u001b[49m\u001b[38;5;241;43m.\u001b[39;49m\u001b[43mfit\u001b[49m\u001b[43m(\u001b[49m\u001b[43mXt\u001b[49m\u001b[43m,\u001b[49m\u001b[43m \u001b[49m\u001b[43my\u001b[49m\u001b[43m,\u001b[49m\u001b[43m \u001b[49m\u001b[38;5;241;43m*\u001b[39;49m\u001b[38;5;241;43m*\u001b[39;49m\u001b[43mfit_params_last_step\u001b[49m\u001b[43m)\u001b[49m\n\u001b[1;32m    429\u001b[0m \u001b[38;5;28;01mreturn\u001b[39;00m \u001b[38;5;28mself\u001b[39m\n",
            "File \u001b[0;32m~/.local/lib/python3.10/site-packages/sklearn/base.py:1152\u001b[0m, in \u001b[0;36m_fit_context.<locals>.decorator.<locals>.wrapper\u001b[0;34m(estimator, *args, **kwargs)\u001b[0m\n\u001b[1;32m   1145\u001b[0m     estimator\u001b[38;5;241m.\u001b[39m_validate_params()\n\u001b[1;32m   1147\u001b[0m \u001b[38;5;28;01mwith\u001b[39;00m config_context(\n\u001b[1;32m   1148\u001b[0m     skip_parameter_validation\u001b[38;5;241m=\u001b[39m(\n\u001b[1;32m   1149\u001b[0m         prefer_skip_nested_validation \u001b[38;5;129;01mor\u001b[39;00m global_skip_validation\n\u001b[1;32m   1150\u001b[0m     )\n\u001b[1;32m   1151\u001b[0m ):\n\u001b[0;32m-> 1152\u001b[0m     \u001b[38;5;28;01mreturn\u001b[39;00m \u001b[43mfit_method\u001b[49m\u001b[43m(\u001b[49m\u001b[43mestimator\u001b[49m\u001b[43m,\u001b[49m\u001b[43m \u001b[49m\u001b[38;5;241;43m*\u001b[39;49m\u001b[43margs\u001b[49m\u001b[43m,\u001b[49m\u001b[43m \u001b[49m\u001b[38;5;241;43m*\u001b[39;49m\u001b[38;5;241;43m*\u001b[39;49m\u001b[43mkwargs\u001b[49m\u001b[43m)\u001b[49m\n",
            "File \u001b[0;32m~/.local/lib/python3.10/site-packages/sklearn/ensemble/_forest.py:348\u001b[0m, in \u001b[0;36mBaseForest.fit\u001b[0;34m(self, X, y, sample_weight)\u001b[0m\n\u001b[1;32m    346\u001b[0m \u001b[38;5;28;01mif\u001b[39;00m issparse(y):\n\u001b[1;32m    347\u001b[0m     \u001b[38;5;28;01mraise\u001b[39;00m \u001b[38;5;167;01mValueError\u001b[39;00m(\u001b[38;5;124m\"\u001b[39m\u001b[38;5;124msparse multilabel-indicator for y is not supported.\u001b[39m\u001b[38;5;124m\"\u001b[39m)\n\u001b[0;32m--> 348\u001b[0m X, y \u001b[38;5;241m=\u001b[39m \u001b[38;5;28;43mself\u001b[39;49m\u001b[38;5;241;43m.\u001b[39;49m\u001b[43m_validate_data\u001b[49m\u001b[43m(\u001b[49m\n\u001b[1;32m    349\u001b[0m \u001b[43m    \u001b[49m\u001b[43mX\u001b[49m\u001b[43m,\u001b[49m\u001b[43m \u001b[49m\u001b[43my\u001b[49m\u001b[43m,\u001b[49m\u001b[43m \u001b[49m\u001b[43mmulti_output\u001b[49m\u001b[38;5;241;43m=\u001b[39;49m\u001b[38;5;28;43;01mTrue\u001b[39;49;00m\u001b[43m,\u001b[49m\u001b[43m \u001b[49m\u001b[43maccept_sparse\u001b[49m\u001b[38;5;241;43m=\u001b[39;49m\u001b[38;5;124;43m\"\u001b[39;49m\u001b[38;5;124;43mcsc\u001b[39;49m\u001b[38;5;124;43m\"\u001b[39;49m\u001b[43m,\u001b[49m\u001b[43m \u001b[49m\u001b[43mdtype\u001b[49m\u001b[38;5;241;43m=\u001b[39;49m\u001b[43mDTYPE\u001b[49m\n\u001b[1;32m    350\u001b[0m \u001b[43m\u001b[49m\u001b[43m)\u001b[49m\n\u001b[1;32m    351\u001b[0m \u001b[38;5;28;01mif\u001b[39;00m sample_weight \u001b[38;5;129;01mis\u001b[39;00m \u001b[38;5;129;01mnot\u001b[39;00m \u001b[38;5;28;01mNone\u001b[39;00m:\n\u001b[1;32m    352\u001b[0m     sample_weight \u001b[38;5;241m=\u001b[39m _check_sample_weight(sample_weight, X)\n",
            "File \u001b[0;32m~/.local/lib/python3.10/site-packages/sklearn/base.py:622\u001b[0m, in \u001b[0;36mBaseEstimator._validate_data\u001b[0;34m(self, X, y, reset, validate_separately, cast_to_ndarray, **check_params)\u001b[0m\n\u001b[1;32m    620\u001b[0m         y \u001b[38;5;241m=\u001b[39m check_array(y, input_name\u001b[38;5;241m=\u001b[39m\u001b[38;5;124m\"\u001b[39m\u001b[38;5;124my\u001b[39m\u001b[38;5;124m\"\u001b[39m, \u001b[38;5;241m*\u001b[39m\u001b[38;5;241m*\u001b[39mcheck_y_params)\n\u001b[1;32m    621\u001b[0m     \u001b[38;5;28;01melse\u001b[39;00m:\n\u001b[0;32m--> 622\u001b[0m         X, y \u001b[38;5;241m=\u001b[39m \u001b[43mcheck_X_y\u001b[49m\u001b[43m(\u001b[49m\u001b[43mX\u001b[49m\u001b[43m,\u001b[49m\u001b[43m \u001b[49m\u001b[43my\u001b[49m\u001b[43m,\u001b[49m\u001b[43m \u001b[49m\u001b[38;5;241;43m*\u001b[39;49m\u001b[38;5;241;43m*\u001b[39;49m\u001b[43mcheck_params\u001b[49m\u001b[43m)\u001b[49m\n\u001b[1;32m    623\u001b[0m     out \u001b[38;5;241m=\u001b[39m X, y\n\u001b[1;32m    625\u001b[0m \u001b[38;5;28;01mif\u001b[39;00m \u001b[38;5;129;01mnot\u001b[39;00m no_val_X \u001b[38;5;129;01mand\u001b[39;00m check_params\u001b[38;5;241m.\u001b[39mget(\u001b[38;5;124m\"\u001b[39m\u001b[38;5;124mensure_2d\u001b[39m\u001b[38;5;124m\"\u001b[39m, \u001b[38;5;28;01mTrue\u001b[39;00m):\n",
            "File \u001b[0;32m~/.local/lib/python3.10/site-packages/sklearn/utils/validation.py:1162\u001b[0m, in \u001b[0;36mcheck_X_y\u001b[0;34m(X, y, accept_sparse, accept_large_sparse, dtype, order, copy, force_all_finite, ensure_2d, allow_nd, multi_output, ensure_min_samples, ensure_min_features, y_numeric, estimator)\u001b[0m\n\u001b[1;32m   1142\u001b[0m     \u001b[38;5;28;01mraise\u001b[39;00m \u001b[38;5;167;01mValueError\u001b[39;00m(\n\u001b[1;32m   1143\u001b[0m         \u001b[38;5;124mf\u001b[39m\u001b[38;5;124m\"\u001b[39m\u001b[38;5;132;01m{\u001b[39;00mestimator_name\u001b[38;5;132;01m}\u001b[39;00m\u001b[38;5;124m requires y to be passed, but the target y is None\u001b[39m\u001b[38;5;124m\"\u001b[39m\n\u001b[1;32m   1144\u001b[0m     )\n\u001b[1;32m   1146\u001b[0m X \u001b[38;5;241m=\u001b[39m check_array(\n\u001b[1;32m   1147\u001b[0m     X,\n\u001b[1;32m   1148\u001b[0m     accept_sparse\u001b[38;5;241m=\u001b[39maccept_sparse,\n\u001b[0;32m   (...)\u001b[0m\n\u001b[1;32m   1159\u001b[0m     input_name\u001b[38;5;241m=\u001b[39m\u001b[38;5;124m\"\u001b[39m\u001b[38;5;124mX\u001b[39m\u001b[38;5;124m\"\u001b[39m,\n\u001b[1;32m   1160\u001b[0m )\n\u001b[0;32m-> 1162\u001b[0m y \u001b[38;5;241m=\u001b[39m \u001b[43m_check_y\u001b[49m\u001b[43m(\u001b[49m\u001b[43my\u001b[49m\u001b[43m,\u001b[49m\u001b[43m \u001b[49m\u001b[43mmulti_output\u001b[49m\u001b[38;5;241;43m=\u001b[39;49m\u001b[43mmulti_output\u001b[49m\u001b[43m,\u001b[49m\u001b[43m \u001b[49m\u001b[43my_numeric\u001b[49m\u001b[38;5;241;43m=\u001b[39;49m\u001b[43my_numeric\u001b[49m\u001b[43m,\u001b[49m\u001b[43m \u001b[49m\u001b[43mestimator\u001b[49m\u001b[38;5;241;43m=\u001b[39;49m\u001b[43mestimator\u001b[49m\u001b[43m)\u001b[49m\n\u001b[1;32m   1164\u001b[0m check_consistent_length(X, y)\n\u001b[1;32m   1166\u001b[0m \u001b[38;5;28;01mreturn\u001b[39;00m X, y\n",
            "File \u001b[0;32m~/.local/lib/python3.10/site-packages/sklearn/utils/validation.py:1172\u001b[0m, in \u001b[0;36m_check_y\u001b[0;34m(y, multi_output, y_numeric, estimator)\u001b[0m\n\u001b[1;32m   1170\u001b[0m \u001b[38;5;250m\u001b[39m\u001b[38;5;124;03m\"\"\"Isolated part of check_X_y dedicated to y validation\"\"\"\u001b[39;00m\n\u001b[1;32m   1171\u001b[0m \u001b[38;5;28;01mif\u001b[39;00m multi_output:\n\u001b[0;32m-> 1172\u001b[0m     y \u001b[38;5;241m=\u001b[39m \u001b[43mcheck_array\u001b[49m\u001b[43m(\u001b[49m\n\u001b[1;32m   1173\u001b[0m \u001b[43m        \u001b[49m\u001b[43my\u001b[49m\u001b[43m,\u001b[49m\n\u001b[1;32m   1174\u001b[0m \u001b[43m        \u001b[49m\u001b[43maccept_sparse\u001b[49m\u001b[38;5;241;43m=\u001b[39;49m\u001b[38;5;124;43m\"\u001b[39;49m\u001b[38;5;124;43mcsr\u001b[39;49m\u001b[38;5;124;43m\"\u001b[39;49m\u001b[43m,\u001b[49m\n\u001b[1;32m   1175\u001b[0m \u001b[43m        \u001b[49m\u001b[43mforce_all_finite\u001b[49m\u001b[38;5;241;43m=\u001b[39;49m\u001b[38;5;28;43;01mTrue\u001b[39;49;00m\u001b[43m,\u001b[49m\n\u001b[1;32m   1176\u001b[0m \u001b[43m        \u001b[49m\u001b[43mensure_2d\u001b[49m\u001b[38;5;241;43m=\u001b[39;49m\u001b[38;5;28;43;01mFalse\u001b[39;49;00m\u001b[43m,\u001b[49m\n\u001b[1;32m   1177\u001b[0m \u001b[43m        \u001b[49m\u001b[43mdtype\u001b[49m\u001b[38;5;241;43m=\u001b[39;49m\u001b[38;5;28;43;01mNone\u001b[39;49;00m\u001b[43m,\u001b[49m\n\u001b[1;32m   1178\u001b[0m \u001b[43m        \u001b[49m\u001b[43minput_name\u001b[49m\u001b[38;5;241;43m=\u001b[39;49m\u001b[38;5;124;43m\"\u001b[39;49m\u001b[38;5;124;43my\u001b[39;49m\u001b[38;5;124;43m\"\u001b[39;49m\u001b[43m,\u001b[49m\n\u001b[1;32m   1179\u001b[0m \u001b[43m        \u001b[49m\u001b[43mestimator\u001b[49m\u001b[38;5;241;43m=\u001b[39;49m\u001b[43mestimator\u001b[49m\u001b[43m,\u001b[49m\n\u001b[1;32m   1180\u001b[0m \u001b[43m    \u001b[49m\u001b[43m)\u001b[49m\n\u001b[1;32m   1181\u001b[0m \u001b[38;5;28;01melse\u001b[39;00m:\n\u001b[1;32m   1182\u001b[0m     estimator_name \u001b[38;5;241m=\u001b[39m _check_estimator_name(estimator)\n",
            "File \u001b[0;32m~/.local/lib/python3.10/site-packages/sklearn/utils/validation.py:957\u001b[0m, in \u001b[0;36mcheck_array\u001b[0;34m(array, accept_sparse, accept_large_sparse, dtype, order, copy, force_all_finite, ensure_2d, allow_nd, ensure_min_samples, ensure_min_features, estimator, input_name)\u001b[0m\n\u001b[1;32m    951\u001b[0m         \u001b[38;5;28;01mraise\u001b[39;00m \u001b[38;5;167;01mValueError\u001b[39;00m(\n\u001b[1;32m    952\u001b[0m             \u001b[38;5;124m\"\u001b[39m\u001b[38;5;124mFound array with dim \u001b[39m\u001b[38;5;132;01m%d\u001b[39;00m\u001b[38;5;124m. \u001b[39m\u001b[38;5;132;01m%s\u001b[39;00m\u001b[38;5;124m expected <= 2.\u001b[39m\u001b[38;5;124m\"\u001b[39m\n\u001b[1;32m    953\u001b[0m             \u001b[38;5;241m%\u001b[39m (array\u001b[38;5;241m.\u001b[39mndim, estimator_name)\n\u001b[1;32m    954\u001b[0m         )\n\u001b[1;32m    956\u001b[0m     \u001b[38;5;28;01mif\u001b[39;00m force_all_finite:\n\u001b[0;32m--> 957\u001b[0m         \u001b[43m_assert_all_finite\u001b[49m\u001b[43m(\u001b[49m\n\u001b[1;32m    958\u001b[0m \u001b[43m            \u001b[49m\u001b[43marray\u001b[49m\u001b[43m,\u001b[49m\n\u001b[1;32m    959\u001b[0m \u001b[43m            \u001b[49m\u001b[43minput_name\u001b[49m\u001b[38;5;241;43m=\u001b[39;49m\u001b[43minput_name\u001b[49m\u001b[43m,\u001b[49m\n\u001b[1;32m    960\u001b[0m \u001b[43m            \u001b[49m\u001b[43mestimator_name\u001b[49m\u001b[38;5;241;43m=\u001b[39;49m\u001b[43mestimator_name\u001b[49m\u001b[43m,\u001b[49m\n\u001b[1;32m    961\u001b[0m \u001b[43m            \u001b[49m\u001b[43mallow_nan\u001b[49m\u001b[38;5;241;43m=\u001b[39;49m\u001b[43mforce_all_finite\u001b[49m\u001b[43m \u001b[49m\u001b[38;5;241;43m==\u001b[39;49m\u001b[43m \u001b[49m\u001b[38;5;124;43m\"\u001b[39;49m\u001b[38;5;124;43mallow-nan\u001b[39;49m\u001b[38;5;124;43m\"\u001b[39;49m\u001b[43m,\u001b[49m\n\u001b[1;32m    962\u001b[0m \u001b[43m        \u001b[49m\u001b[43m)\u001b[49m\n\u001b[1;32m    964\u001b[0m \u001b[38;5;28;01mif\u001b[39;00m ensure_min_samples \u001b[38;5;241m>\u001b[39m \u001b[38;5;241m0\u001b[39m:\n\u001b[1;32m    965\u001b[0m     n_samples \u001b[38;5;241m=\u001b[39m _num_samples(array)\n",
            "File \u001b[0;32m~/.local/lib/python3.10/site-packages/sklearn/utils/validation.py:122\u001b[0m, in \u001b[0;36m_assert_all_finite\u001b[0;34m(X, allow_nan, msg_dtype, estimator_name, input_name)\u001b[0m\n\u001b[1;32m    119\u001b[0m \u001b[38;5;28;01mif\u001b[39;00m first_pass_isfinite:\n\u001b[1;32m    120\u001b[0m     \u001b[38;5;28;01mreturn\u001b[39;00m\n\u001b[0;32m--> 122\u001b[0m \u001b[43m_assert_all_finite_element_wise\u001b[49m\u001b[43m(\u001b[49m\n\u001b[1;32m    123\u001b[0m \u001b[43m    \u001b[49m\u001b[43mX\u001b[49m\u001b[43m,\u001b[49m\n\u001b[1;32m    124\u001b[0m \u001b[43m    \u001b[49m\u001b[43mxp\u001b[49m\u001b[38;5;241;43m=\u001b[39;49m\u001b[43mxp\u001b[49m\u001b[43m,\u001b[49m\n\u001b[1;32m    125\u001b[0m \u001b[43m    \u001b[49m\u001b[43mallow_nan\u001b[49m\u001b[38;5;241;43m=\u001b[39;49m\u001b[43mallow_nan\u001b[49m\u001b[43m,\u001b[49m\n\u001b[1;32m    126\u001b[0m \u001b[43m    \u001b[49m\u001b[43mmsg_dtype\u001b[49m\u001b[38;5;241;43m=\u001b[39;49m\u001b[43mmsg_dtype\u001b[49m\u001b[43m,\u001b[49m\n\u001b[1;32m    127\u001b[0m \u001b[43m    \u001b[49m\u001b[43mestimator_name\u001b[49m\u001b[38;5;241;43m=\u001b[39;49m\u001b[43mestimator_name\u001b[49m\u001b[43m,\u001b[49m\n\u001b[1;32m    128\u001b[0m \u001b[43m    \u001b[49m\u001b[43minput_name\u001b[49m\u001b[38;5;241;43m=\u001b[39;49m\u001b[43minput_name\u001b[49m\u001b[43m,\u001b[49m\n\u001b[1;32m    129\u001b[0m \u001b[43m\u001b[49m\u001b[43m)\u001b[49m\n",
            "File \u001b[0;32m~/.local/lib/python3.10/site-packages/sklearn/utils/validation.py:171\u001b[0m, in \u001b[0;36m_assert_all_finite_element_wise\u001b[0;34m(X, xp, allow_nan, msg_dtype, estimator_name, input_name)\u001b[0m\n\u001b[1;32m    154\u001b[0m \u001b[38;5;28;01mif\u001b[39;00m estimator_name \u001b[38;5;129;01mand\u001b[39;00m input_name \u001b[38;5;241m==\u001b[39m \u001b[38;5;124m\"\u001b[39m\u001b[38;5;124mX\u001b[39m\u001b[38;5;124m\"\u001b[39m \u001b[38;5;129;01mand\u001b[39;00m has_nan_error:\n\u001b[1;32m    155\u001b[0m     \u001b[38;5;66;03m# Improve the error message on how to handle missing values in\u001b[39;00m\n\u001b[1;32m    156\u001b[0m     \u001b[38;5;66;03m# scikit-learn.\u001b[39;00m\n\u001b[1;32m    157\u001b[0m     msg_err \u001b[38;5;241m+\u001b[39m\u001b[38;5;241m=\u001b[39m (\n\u001b[1;32m    158\u001b[0m         \u001b[38;5;124mf\u001b[39m\u001b[38;5;124m\"\u001b[39m\u001b[38;5;130;01m\\n\u001b[39;00m\u001b[38;5;132;01m{\u001b[39;00mestimator_name\u001b[38;5;132;01m}\u001b[39;00m\u001b[38;5;124m does not accept missing values\u001b[39m\u001b[38;5;124m\"\u001b[39m\n\u001b[1;32m    159\u001b[0m         \u001b[38;5;124m\"\u001b[39m\u001b[38;5;124m encoded as NaN natively. For supervised learning, you might want\u001b[39m\u001b[38;5;124m\"\u001b[39m\n\u001b[0;32m   (...)\u001b[0m\n\u001b[1;32m    169\u001b[0m         \u001b[38;5;124m\"\u001b[39m\u001b[38;5;124m#estimators-that-handle-nan-values\u001b[39m\u001b[38;5;124m\"\u001b[39m\n\u001b[1;32m    170\u001b[0m     )\n\u001b[0;32m--> 171\u001b[0m \u001b[38;5;28;01mraise\u001b[39;00m \u001b[38;5;167;01mValueError\u001b[39;00m(msg_err)\n",
            "\u001b[0;31mValueError\u001b[0m: Input y contains NaN."
          ]
        }
      ],
      "source": [
        "# Define the mode\n",
        "model = Pipeline(steps=[('preprocessor', preprocessor),\n",
        "                        ('classifier', RandomForestClassifier(random_state=42))])\n",
        "\n",
        "# Train the model\n",
        "model.fit(X_train, y_train)"
      ]
    },
    {
      "cell_type": "code",
      "execution_count": null,
      "metadata": {
        "id": "VjsyfKrH2ZAt"
      },
      "outputs": [],
      "source": [
        "# Make predictions\n",
        "y_pred = model.predict(X_test)\n",
        "y_prob = model.predict_proba(X_test)[:, 1]"
      ]
    },
    {
      "cell_type": "code",
      "execution_count": null,
      "metadata": {
        "id": "w2AOO1GE3Z2e"
      },
      "outputs": [],
      "source": [
        "# Calculate the evaluation metrics\n",
        "accuracy = accuracy_score(y_test, y_pred)\n",
        "f1 = f1_score(y_test, y_pred)\n",
        "recall = recall_score(y_test, y_pred)\n",
        "roc_auc = roc_auc_score(y_test, y_prob)"
      ]
    },
    {
      "cell_type": "code",
      "execution_count": null,
      "metadata": {
        "id": "Rxy7zhnr3suZ"
      },
      "outputs": [],
      "source": [
        "# Confusion Matrix\n",
        "conf_matrix = confusion_matrix(y_test, y_pred)\n",
        "\n",
        "# Specificity\n",
        "tn, fp, fn, tp = conf_matrix.ravel()\n",
        "specificity = tn / (tn + fp)\n"
      ]
    },
    {
      "cell_type": "code",
      "execution_count": null,
      "metadata": {
        "colab": {
          "base_uri": "https://localhost:8080/"
        },
        "id": "glbzUsdk3-oh",
        "outputId": "7ce843d0-0133-49c5-f580-fa1ad5de5766"
      },
      "outputs": [
        {
          "name": "stdout",
          "output_type": "stream",
          "text": [
            "Accuracy: 0.8148148148148148\n",
            "F1 Score: 0.4444444444444445\n",
            "Recall: 0.5\n",
            "Specificity: 0.8695652173913043\n",
            "ROC AUC: 0.8586956521739131\n"
          ]
        }
      ],
      "source": [
        "# Display metrics\n",
        "print(f'Accuracy: {accuracy}')\n",
        "print(f'F1 Score: {f1}')\n",
        "print(f'Recall: {recall}')\n",
        "print(f'Specificity: {specificity}')\n",
        "print(f'ROC AUC: {roc_auc}')"
      ]
    },
    {
      "cell_type": "code",
      "execution_count": null,
      "metadata": {
        "colab": {
          "base_uri": "https://localhost:8080/",
          "height": 564
        },
        "id": "MT2mGBL74Dyj",
        "outputId": "74feab43-bcc0-401b-cf6e-ef09e28b4278"
      },
      "outputs": [
        {
          "data": {
            "image/png": "[encoded data removed]",
            "text/plain": [
              "<Figure size 800x600 with 2 Axes>"
            ]
          },
          "metadata": {},
          "output_type": "display_data"
        }
      ],
      "source": [
        "# Confusion matrix plot\n",
        "plt.figure(figsize=(8, 6))\n",
        "sns.heatmap(conf_matrix, annot=True, fmt='d', cmap='Blues')\n",
        "plt.title('Confusion Matrix')\n",
        "plt.xlabel('Predicted')\n",
        "plt.ylabel('Actual')\n",
        "plt.show()"
      ]
    },
    {
      "cell_type": "code",
      "execution_count": null,
      "metadata": {
        "colab": {
          "base_uri": "https://localhost:8080/",
          "height": 555
        },
        "id": "LeaEuSPN4J52",
        "outputId": "ed7f36da-96a2-44dc-dfa3-e67f47dc15a4"
      },
      "outputs": [
        {
          "data": {
            "image/png": "[encoded data removed]",
            "text/plain": [
              "<Figure size 800x600 with 1 Axes>"
            ]
          },
          "metadata": {},
          "output_type": "display_data"
        }
      ],
      "source": [
        "# ROC curve\n",
        "fpr, tpr, thresholds = roc_curve(y_test, y_prob)\n",
        "roc_auc = auc(fpr, tpr)\n",
        "\n",
        "plt.figure(figsize=(8, 6))\n",
        "plt.plot(fpr, tpr, color='blue', lw=2, label=f'ROC curve (area = {roc_auc:.2f})')\n",
        "plt.plot([0, 1], [0, 1], color='gray', lw=2, linestyle='--')\n",
        "plt.xlim([0.0, 1.0])\n",
        "plt.ylim([0.0, 1.05])\n",
        "plt.xlabel('False Positive Rate')\n",
        "plt.ylabel('True Positive Rate')\n",
        "plt.title('Receiver Operating Characteristic (ROC) Curve')\n",
        "plt.legend(loc=\"lower right\")\n",
        "plt.show()"
      ]
    },
    {
      "cell_type": "code",
      "execution_count": null,
      "metadata": {
        "id": "MzEEdV0M8P-X"
      },
      "outputs": [],
      "source": []
    }
  ],
  "metadata": {
    "colab": {
      "provenance": [],
      "toc_visible": true
    },
    "kernelspec": {
      "display_name": "Python 3",
      "name": "python3"
    },
    "language_info": {
      "codemirror_mode": {
        "name": "ipython",
        "version": 3
      },
      "file_extension": ".py",
      "mimetype": "text/x-python",
      "name": "python",
      "nbconvert_exporter": "python",
      "pygments_lexer": "ipython3",
      "version": "3.10.12"
    }
  },
  "nbformat": 4,
  "nbformat_minor": 0
}
